{
 "cells": [
  {
   "cell_type": "markdown",
   "metadata": {
    "id": "TWJZr5eHRtrw"
   },
   "source": [
    "# Machine Learning II - Urban Sound Classification with Neural Networks"
   ]
  },
  {
   "cell_type": "markdown",
   "metadata": {
    "id": "6dFObmFARtrx"
   },
   "source": [
    "Trabalho realizado pelos alunos Francisco Macieira (202207166), Gabriela Simon (202200209) e Noa Santos (202201392)"
   ]
  },
  {
   "cell_type": "markdown",
   "metadata": {
    "id": "2d5H7MFJRtrx"
   },
   "source": [
    "Neste projeto, trabalhamos com um dataset de sons urbanos. Cada áudio pertence a uma das seguintes classes: ar condicionado, buzina de carro, crianças a brincar, latido de cachorro, perfuração, motor em marcha lenta, tiro de arma, britadeira, sirene e música de rua. O projeto tem como objetivo implementar dois classificadores de deep learning para classificar os sons. Os modelos escolhidos foram um Multi Layer Perceptron (MLP) e uma Rede Neural Convolucional (CNN)  \n",
    "Nota: Nem todo o código está corrido no notebook porque as runs estavam espalhadas por vários notebooks, mas todos os resultados e datasets estão guardados em ficheiros e foram entregues com o trabalho"
   ]
  },
  {
   "cell_type": "markdown",
   "metadata": {
    "id": "mycLO7BTRtry"
   },
   "source": [
    "## Importações"
   ]
  },
  {
   "cell_type": "code",
   "execution_count": 1,
   "metadata": {
    "colab": {
     "base_uri": "https://localhost:8080/"
    },
    "id": "wGn8zrYHRtry",
    "outputId": "26e199c5-5152-4dd2-82f2-3bc15b4238d6"
   },
   "outputs": [],
   "source": [
    "import pandas as pd\n",
    "import numpy as np\n",
    "import matplotlib.pylab as plt\n",
    "import os\n",
    "from glob import glob\n",
    "import librosa\n",
    "import numpy as np\n",
    "import librosa\n",
    "import os\n",
    "import pandas as pd\n",
    "from sklearn.preprocessing import StandardScaler, OneHotEncoder, LabelEncoder, MinMaxScaler\n",
    "from sklearn.decomposition import PCA\n",
    "from sklearn.metrics import accuracy_score, confusion_matrix\n",
    "from sklearn.model_selection import train_test_split, KFold, StratifiedKFold\n",
    "import matplotlib.pyplot as plt\n",
    "import tensorflow as tf\n",
    "from tensorflow.keras.models import Sequential\n",
    "from tensorflow.keras.layers import Dense\n",
    "from tensorflow.keras.callbacks import LearningRateScheduler, EarlyStopping\n",
    "import seaborn as sns\n",
    "import torch\n",
    "from torch.utils.data import Dataset, DataLoader\n",
    "import torch.nn as nn\n",
    "import torch.optim as optim\n",
    "import optuna\n",
    "from scipy.stats import friedmanchisquare\n",
    "import scikit_posthocs as sp"
   ]
  },
  {
   "cell_type": "code",
   "execution_count": 3,
   "metadata": {
    "id": "WUl9Gb8pVcok"
   },
   "outputs": [],
   "source": [
    "device = torch.device('cuda' if torch.cuda.is_available() else 'cpu')"
   ]
  },
  {
   "cell_type": "markdown",
   "metadata": {
    "id": "VlWBfwGiRtry"
   },
   "source": [
    "## Pré processamento de Dados para o Multi Layer Perceptron"
   ]
  },
  {
   "cell_type": "markdown",
   "metadata": {
    "id": "Qbo0AqRERtrz"
   },
   "source": [
    "O pre processamento dos dados para trabalhar com o Multi Layer Perceptron consiste em uma extração de features que são salvas num CSV, que vai ser usado com o modelo MLP"
   ]
  },
  {
   "cell_type": "code",
   "execution_count": null,
   "metadata": {
    "id": "KAzHcXWJRtrz"
   },
   "outputs": [],
   "source": [
    "audio_files = glob('UrbanSound8K/audio/*/*.wav')"
   ]
  },
  {
   "cell_type": "markdown",
   "metadata": {
    "id": "UxLUESGSRtrz"
   },
   "source": [
    "#### Ajuste da duração dos audios para 4 segundos"
   ]
  },
  {
   "cell_type": "code",
   "execution_count": null,
   "metadata": {
    "id": "Hgw2h5UVRtrz"
   },
   "outputs": [],
   "source": [
    "def uniform_duration(sr, audio):\n",
    "    target_length = 4 * sr\n",
    "\n",
    "    if len(audio) < target_length:\n",
    "        audio = np.pad(audio, (0, target_length - len(audio)), 'constant')\n",
    "    else:\n",
    "        audio = audio[:target_length]\n",
    "    return audio\n",
    "\n",
    "durations = []\n",
    "\n",
    "for i in range(len(audio_files)):\n",
    "    audio, _ = librosa.load(audio_files[i])\n",
    "    audio = uniform_duration(22050, audio)\n",
    "\n",
    "    duration = len(audio) / 22050\n",
    "\n",
    "    durations.append({\n",
    "        \"file_name\": f\"audio_{i}\",\n",
    "\n",
    "        \"duration_seconds\": duration\n",
    "    })\n",
    "\n",
    "df_durations = pd.DataFrame(durations)"
   ]
  },
  {
   "cell_type": "markdown",
   "metadata": {
    "id": "P7CZD8fgRtrz"
   },
   "source": [
    "#### Normalização dos audios para que todos estejam no mesmo intervalo"
   ]
  },
  {
   "cell_type": "code",
   "execution_count": null,
   "metadata": {
    "id": "v6ihDSIBRtrz"
   },
   "outputs": [],
   "source": [
    "for i in range(len(audio_files)):\n",
    "    audio, _ = librosa.load(audio_files[i])\n",
    "    audio = audio / np.max(np.abs(audio))  # Normalização para [-1, 1]"
   ]
  },
  {
   "cell_type": "markdown",
   "metadata": {
    "id": "CaKOgWaFRtr0"
   },
   "source": [
    "#### Extração de features\n",
    "\n",
    "As features extraidas foram:\n",
    "- MFCCs: Mel-frequency cepstral coefficients, informações espectrais perceptuais;\n",
    "- Chroma: energia do audio distribuida em 12 classes de pitch;\n",
    "- Spectral Contrast: diferença entre picos e vales no espectro;\n",
    "- Tonnetz: caracteristicas tonais, como harmonia e consoância;\n",
    "- Zero Crossing Rate: taxa de mudanças de sinal;\n",
    "- Root Mean Square Energy: energia do audio em janelas de tempo;\n",
    "- Spectral Rolloff: ponto no espectro onde uma porcentagem da energia total está abaixo;\n",
    "- Spectral Centroid: localização do \"centro de massa\" do espectro;\n",
    "- Spectral Bandwidth: largura do espectro em torno do seu centro;\n",
    "- Mel Spectogram: energia em bandas de frequencia de Mel."
   ]
  },
  {
   "cell_type": "code",
   "execution_count": null,
   "metadata": {
    "id": "eqOURFrFRtr0"
   },
   "outputs": [],
   "source": [
    "def extract_features(audio_file):\n",
    "    audio, sr = librosa.load(audio_file)\n",
    "\n",
    "    n_fft = 1024\n",
    "    if len(audio) < 1024: # Ajuste so comprimento do audio para evitar erros nos calculos\n",
    "        n_fft = 256\n",
    "\n",
    "    mfccs = librosa.feature.mfcc(y=audio, sr=sr, n_mfcc=1, n_fft=n_fft)\n",
    "    chroma = librosa.feature.chroma_stft(y=audio, sr=sr, n_fft=n_fft)\n",
    "    spectral_contrast = librosa.feature.spectral_contrast(y=audio, sr=sr, n_fft=n_fft)\n",
    "    tonnetz = librosa.feature.tonnetz(y=librosa.effects.harmonic(audio), sr=sr)\n",
    "    zero_crossing_rate = librosa.feature.zero_crossing_rate(audio)\n",
    "\n",
    "    rmse = librosa.feature.rms(y=audio)\n",
    "    spectral_rolloff = librosa.feature.spectral_rolloff(y=audio, sr=sr, n_fft=n_fft, roll_percent=0.85)\n",
    "    centroid = librosa.feature.spectral_centroid(y=audio, sr=sr, n_fft=n_fft)\n",
    "    bandwidth = librosa.feature.spectral_bandwidth(y=audio, sr=sr, n_fft=n_fft)\n",
    "    mel_spectrogram = librosa.feature.melspectrogram(y=audio, sr=sr,  n_fft=n_fft)\n",
    "\n",
    "    fold = next(part for part in audio_file.split(os.sep) if \"fold\" in part)\n",
    "\n",
    "    file_id = os.path.basename(audio_file).split('.')[0]\n",
    "    features = [\n",
    "        file_id, fold,\n",
    "        np.mean(mfccs), np.std(mfccs),\n",
    "        np.mean(chroma), np.std(chroma),\n",
    "        np.mean(spectral_contrast), np.std(spectral_contrast),\n",
    "        np.mean(tonnetz), np.std(tonnetz),\n",
    "        np.mean(zero_crossing_rate), np.std(zero_crossing_rate),\n",
    "        np.mean(rmse), np.std(rmse),\n",
    "        np.mean(spectral_rolloff), np.std(spectral_rolloff),\n",
    "        np.mean(centroid), np.std(centroid),\n",
    "        np.mean(bandwidth), np.std(bandwidth),\n",
    "        np.mean(mel_spectrogram), np.std(mel_spectrogram)\n",
    "    ]\n",
    "\n",
    "    return features"
   ]
  },
  {
   "cell_type": "code",
   "execution_count": null,
   "metadata": {
    "id": "E_lmioB4Rtr0"
   },
   "outputs": [],
   "source": [
    "def feature_extraction(audio_files, features_list, columns):\n",
    "    i = 0\n",
    "    for file_path in audio_files:\n",
    "        features = extract_features(file_path)\n",
    "        features_list.append(features)\n",
    "        i+=1\n",
    "        if (i%100)==0:\n",
    "            print(f\"{i} iterações realizadas\")\n",
    "\n",
    "\n",
    "    if not features_list or len(features_list[0]) != len(columns):\n",
    "        raise ValueError(f\"Features list não corresponde ao número de colunas. \"\n",
    "                         f\"Esperado {len(columns)}, mas encontrou {len(features_list[0])}.\")\n",
    "\n",
    "\n",
    "    df = pd.DataFrame(features_list, columns=columns)\n",
    "    df.to_csv(\"feature_extraction.csv\", index=False) # Salva a extração de features em um CSV"
   ]
  },
  {
   "cell_type": "code",
   "execution_count": null,
   "metadata": {
    "id": "-E_R0c84Rtr0"
   },
   "outputs": [],
   "source": [
    "columns = [\n",
    "    \"file_id\", \"fold\",\n",
    "    \"mfcc_mean\", \"mfcc_std\",\n",
    "    \"chroma_mean\", \"chroma_std\",\n",
    "    \"spectral_contrast_mean\", \"spectral_contrast_std\",\n",
    "    \"tonnetz_mean\", \"tonnetz_std\",\n",
    "    \"zero_crossing_rate_mean\", \"zero_crossing_rate_std\",\n",
    "    \"rmse_mean\", \"rmse_std\",\n",
    "    \"spectral_rolloff_mean\", \"spectral_roloff_std\",\n",
    "    \"centroid_mean\", \"centroid_std\",\n",
    "    \"bandwidth_mean\", \"bandwidth_std\",\n",
    "    \"contrast_mean\", \"contrast_std\",\n",
    "    \"mel_spectrogram_mean\", \"mel_spectrogram_std\"\n",
    "]\n",
    "\n",
    "features_list = []\n",
    "\n",
    "feature_extraction(audio_files, features_list, columns)"
   ]
  },
  {
   "cell_type": "markdown",
   "metadata": {
    "id": "yGozsZbPRtr0"
   },
   "source": [
    "#### Adição da coluna de classe ao CSV"
   ]
  },
  {
   "cell_type": "code",
   "execution_count": null,
   "metadata": {
    "id": "pM7r1WHVRtr0"
   },
   "outputs": [],
   "source": [
    "def add_target_column(features_csv, target_csv):\n",
    "    target_csv = pd.read_csv(target_csv)\n",
    "    features_csv = pd.read_csv(features_csv)\n",
    "    target_csv['file_id'] = target_csv['slice_file_name'].str.replace(\".wav\", \"\", regex=False)\n",
    "    merged_csv = pd.merge(features_csv, target_csv[['file_id', 'salience', 'class']], on=\"file_id\", how=\"left\")\n",
    "    merged_csv.to_csv(\"feature_extraction.csv\", index=False)\n",
    "    return merged_csv"
   ]
  },
  {
   "cell_type": "code",
   "execution_count": null,
   "metadata": {
    "id": "kAGotPSMRtr0"
   },
   "outputs": [],
   "source": [
    "features_csv = 'feature_extraction.csv'\n",
    "target_csv = 'UrbanSound8K/metadata/UrbanSound8K.csv'\n",
    "csv_file = add_target_column(features_csv, target_csv)"
   ]
  },
  {
   "cell_type": "markdown",
   "metadata": {
    "id": "2hIeDMuXRtr0"
   },
   "source": [
    "---"
   ]
  },
  {
   "cell_type": "markdown",
   "metadata": {
    "id": "5MWtccHDRtr0"
   },
   "source": [
    "## Multi Layer Perceptron"
   ]
  },
  {
   "cell_type": "markdown",
   "metadata": {
    "id": "cd8A0BtnRtr0"
   },
   "source": [
    "#### Divisão dos dados em X e Y\n"
   ]
  },
  {
   "cell_type": "markdown",
   "metadata": {
    "id": "8aX75dboRtr0"
   },
   "source": [
    "Label Encoder do y & Normalização do X"
   ]
  },
  {
   "cell_type": "code",
   "execution_count": 84,
   "metadata": {
    "colab": {
     "base_uri": "https://localhost:8080/"
    },
    "id": "tanD_LWoRtr0",
    "outputId": "74c187f9-e9e1-4ce0-c62a-87ae4a4a0b21"
   },
   "outputs": [
    {
     "name": "stdout",
     "output_type": "stream",
     "text": [
      "         0         1         2         3         4         5         6   \\\n",
      "0  0.683183  0.017093  0.621973  0.469777  0.383277  0.638431  0.505458   \n",
      "1  0.718800  0.105597  0.460109  0.637143  0.377176  0.563590  0.472180   \n",
      "2  0.728638  0.092748  0.416206  0.685898  0.283718  0.519607  0.469577   \n",
      "3  0.478898  0.036833  0.516766  0.653926  0.260736  0.470929  0.489646   \n",
      "4  0.496398  0.700244  0.422515  0.824047  0.313228  0.513074  0.495865   \n",
      "\n",
      "         7         8         9   ...        13        14        15        16  \\\n",
      "0  0.035471  0.092136  0.036746  ...  0.077481  0.165125  0.026641  0.279333   \n",
      "1  0.138060  0.186574  0.273884  ...  0.395330  0.385121  0.297618  0.668237   \n",
      "2  0.104300  0.098335  0.046947  ...  0.325160  0.241995  0.111223  0.464770   \n",
      "3  0.139243  0.087479  0.104135  ...  0.125955  0.218403  0.084630  0.418222   \n",
      "4  0.135814  0.168407  0.233478  ...  0.402947  0.331131  0.254352  0.459972   \n",
      "\n",
      "         17        18        19        20        21   22  \n",
      "0  0.026699  0.383277  0.638431  0.015990  0.006213  1.0  \n",
      "1  0.209080  0.377176  0.563590  0.042588  0.056372  0.0  \n",
      "2  0.202389  0.283718  0.519607  0.028377  0.018111  1.0  \n",
      "3  0.105854  0.260736  0.470929  0.000443  0.000459  1.0  \n",
      "4  0.301941  0.313228  0.513074  0.035341  0.053712  0.0  \n",
      "\n",
      "[5 rows x 23 columns]\n",
      "[0 1 2 3 4 5 6 7 8 9]\n"
     ]
    }
   ],
   "source": [
    "dataset_path = 'feature_extraction.csv'\n",
    "data = pd.read_csv(dataset_path)\n",
    "\n",
    "X = data.drop(columns=['file_id', 'class', 'fold'])\n",
    "y = data['class']\n",
    "\n",
    "#One Hot Encoder de y\n",
    "label_encoder = LabelEncoder()\n",
    "y = label_encoder.fit_transform(y)\n",
    "\n",
    "#Normalização de X\n",
    "scaler = MinMaxScaler()\n",
    "X = scaler.fit_transform(X)\n",
    "\n",
    "print(pd.DataFrame(X).head())\n",
    "print(np.unique(y))"
   ]
  },
  {
   "cell_type": "markdown",
   "metadata": {
    "id": "y5w9yOZNRtr0"
   },
   "source": [
    "#### Definição dos folds de acordo com os folds dos dados originais"
   ]
  },
  {
   "cell_type": "code",
   "execution_count": 87,
   "metadata": {
    "id": "YTiAjkCKRtr1"
   },
   "outputs": [],
   "source": [
    "def get_train_val_test_splits(X, val_fold, test_fold):\n",
    "\n",
    "    data['fold_number'] = data['fold'].str.extract(r'(\\d+)').astype(int)\n",
    "\n",
    "    val_indices = data[data['fold_number'] == val_fold].index\n",
    "    test_indices = data[data['fold_number'] == test_fold].index\n",
    "\n",
    "    train_indices = data[(data['fold_number'] != val_fold) &\n",
    "                         (data['fold_number'] != test_fold)].index\n",
    "\n",
    "    X_train, y_train = X[train_indices], y[train_indices]\n",
    "    X_val, y_val = X[val_indices], y[val_indices]\n",
    "    X_test, y_test = X[test_indices], y[test_indices]\n",
    "\n",
    "    return X_train, y_train, X_val, y_val, X_test, y_test"
   ]
  },
  {
   "cell_type": "code",
   "execution_count": 89,
   "metadata": {
    "id": "kSAC2YikT2gY"
   },
   "outputs": [],
   "source": [
    "log_file = \"optimization_results_MLP.txt\""
   ]
  },
  {
   "cell_type": "markdown",
   "metadata": {
    "id": "0nvuKVCVRtr1"
   },
   "source": [
    "#### PCA\n",
    "\n",
    "Aplicação do PCA ao dataset extraído para evitar variáveis correlacionadas (e consequentemente overfitting). O número de componentes foi escolhido através do gráfico de variância acumulada à medida que se adicionam componentes ao PCA (10 componentes que explicam cerca de 90% da variância do dataset)"
   ]
  },
  {
   "cell_type": "code",
   "execution_count": 92,
   "metadata": {
    "id": "M0IzwpUTRtr1"
   },
   "outputs": [],
   "source": [
    "pca = PCA(n_components=10)\n",
    "new_X = pca.fit_transform(X)"
   ]
  },
  {
   "cell_type": "markdown",
   "metadata": {
    "id": "Xz2Ic203Rtr1"
   },
   "source": [
    "#### Número de camadas escondidas\n",
    "\n",
    "Duas camadas escondidas já são capazes de representar qualquer relação entre os dados, mesmo aquelas que não podem ser representadas por equações. Mais do que duas camadas escondidas só são necessárias em problemas ainda mais complexos como séries temporais e visão computacional, onde há uma certa inter-relação entre as dimensões que os dados contêm"
   ]
  },
  {
   "cell_type": "code",
   "execution_count": 95,
   "metadata": {
    "colab": {
     "base_uri": "https://localhost:8080/"
    },
    "id": "c4wDdiIxRtr1",
    "outputId": "f3cb7d4e-f0fb-46fe-8e12-a24405cb0f3d"
   },
   "outputs": [
    {
     "data": {
      "text/plain": [
       "[2, 3]"
      ]
     },
     "execution_count": 95,
     "metadata": {},
     "output_type": "execute_result"
    }
   ],
   "source": [
    "n_camadas = [2, 3]\n",
    "n_camadas"
   ]
  },
  {
   "cell_type": "markdown",
   "metadata": {
    "id": "kMirtv4RRtr1"
   },
   "source": [
    "#### Número de neurónios em cada camada escondida\n",
    "\n",
    "Abordagens:\n",
    "O número de neurônios escondidos deve estar entre o tamanho da camada de entrada e o da camada de saída.\n",
    "O número de neurônios escondidos deve ser 2/3 do tamanho da camada de entrada, mais o tamanho da camada de saída"
   ]
  },
  {
   "cell_type": "code",
   "execution_count": 98,
   "metadata": {
    "id": "VhmZwGQJRtr1"
   },
   "outputs": [],
   "source": [
    "def n_neuronios(X):\n",
    "    n_neur = [0] * 3\n",
    "    input_dim = X.shape[1]\n",
    "    output_dim = len(label_encoder.classes_)\n",
    "    #Neurónios na camada escondida 1\n",
    "    n_neur [0] = int((input_dim + output_dim)/2)\n",
    "    #Neurónios na camada escondida 2\n",
    "    n_neur [1] = int((input_dim + output_dim)/3)\n",
    "    #Neurónios na camada escondida 3\n",
    "    n_neur [2] = int((input_dim + output_dim)/4)\n",
    "    return n_neur, output_dim"
   ]
  },
  {
   "cell_type": "markdown",
   "metadata": {
    "id": "2He1rJpiRtr1"
   },
   "source": [
    "#### Inicialização dos pesos\n",
    "\n",
    "Função gaussiana para inicializar os pesos"
   ]
  },
  {
   "cell_type": "code",
   "execution_count": 101,
   "metadata": {
    "id": "SL4YdrE7Rtr1"
   },
   "outputs": [],
   "source": [
    "def initialize_weights(shape, dtype=None):\n",
    "    mean = 0.0\n",
    "    stddev = 0.01\n",
    "    return tf.constant(np.random.normal(loc=mean, scale=stddev, size=shape), dtype=dtype)"
   ]
  },
  {
   "cell_type": "markdown",
   "metadata": {
    "id": "PrpcKsBYRtr1"
   },
   "source": [
    "#### Ajuste do Learning Rate ao longo da aprendizagem\n",
    "\n",
    "Ajustar o Learning Rate para metade do seu valor de 10 em 10 epochs"
   ]
  },
  {
   "cell_type": "code",
   "execution_count": 104,
   "metadata": {
    "id": "pPNOpZJ9Rtr1"
   },
   "outputs": [],
   "source": [
    "def scheduler(epoch, lr):\n",
    "    lr_scheduler = LearningRateScheduler(scheduler)\n",
    "    if epoch > 0 and epoch % 10 == 0:\n",
    "        return lr / 2\n",
    "    return lr\n",
    "lr_scheduler = LearningRateScheduler(scheduler)"
   ]
  },
  {
   "cell_type": "markdown",
   "metadata": {
    "id": "bL7qwglZRtr1"
   },
   "source": [
    "#### Early Stop\n",
    "\n",
    "Verificar se a validation loss (no fold de desenvolvimento) não melhora em 10 epochs consecutivos, e para o treino caso isso aconteça"
   ]
  },
  {
   "cell_type": "code",
   "execution_count": 107,
   "metadata": {
    "id": "ex30LpauRtr1"
   },
   "outputs": [],
   "source": [
    "early_stopping = EarlyStopping(monitor='val_loss', patience=10)"
   ]
  },
  {
   "cell_type": "markdown",
   "metadata": {
    "id": "oWq021PuRtr1"
   },
   "source": [
    "#### Grid Search\n",
    "\n",
    "Função que faz um grid search para encontrar o melhor learning rate para o otimizador Adam e o melhor número de epochs e batch size para o modelo. Os valores em cada grid foram pedidos ao ChatGPT. A cada modelo é aplicada uma 10-cross validation, com 8 folds a serem usados para treino, 1 para teste e 1 para desenvolvimento"
   ]
  },
  {
   "cell_type": "code",
   "execution_count": 109,
   "metadata": {
    "id": "EJXybaTDRtr2"
   },
   "outputs": [],
   "source": [
    "with open(log_file, \"w\") as f:\n",
    "    f.write(\"Resultados do Grid Search\\n\\n\")\n",
    "\n",
    "def grid_search(model, X, y, data, model_number):\n",
    "    learning_rate = [0.01, 0.001]\n",
    "    epochs = [50, 100, 200]\n",
    "    batch_size = [64, 128]\n",
    "    best_model = None\n",
    "    best_model_accuracy = 0\n",
    "\n",
    "    with open(log_file, \"a\") as f:\n",
    "        f.write(f\"Resultados do Modelo {model_number}:\\n\\n\")\n",
    "\n",
    "    trial_number = 0\n",
    "    for i in learning_rate:\n",
    "        for j in epochs:\n",
    "            for m in batch_size:\n",
    "\n",
    "                trial_number += 1\n",
    "                adam_optimizer = tf.keras.optimizers.Adam(learning_rate=i)\n",
    "                model = model\n",
    "                all_accuracies = []\n",
    "                all_confusion_matrices = []\n",
    "                all_losses = []\n",
    "\n",
    "                for f in range (1, 11):\n",
    "                    r = f+1\n",
    "                    if r > 10:\n",
    "                        r = 1\n",
    "\n",
    "                    X_train, y_train, X_val, y_val, X_test, y_test = get_train_val_test_splits(X, r, f)\n",
    "                    model.compile(optimizer=adam_optimizer, loss='sparse_categorical_crossentropy', metrics=[\"accuracy\"])\n",
    "\n",
    "                    model.fit(X_train, y_train, epochs=j, batch_size=m, validation_data=(X_val, y_val), callbacks=[lr_scheduler, early_stopping])\n",
    "\n",
    "                    loss, accuracy = model.evaluate(X_val, y_val)\n",
    "\n",
    "                    all_accuracies.append(accuracy)\n",
    "                    y_pred = model.predict(X_val)\n",
    "                    y_pred_classes = np.argmax(y_pred, axis=1)\n",
    "                    cm = confusion_matrix(y_val, y_pred_classes)\n",
    "                    all_confusion_matrices.append(cm)\n",
    "                    all_losses.append(loss)\n",
    "\n",
    "                accumulated_cm = np.sum(all_confusion_matrices, axis=0)\n",
    "                accumulated_cm_percentage = accumulated_cm / np.sum(accumulated_cm) * 100\n",
    "                mean_accuracy = np.mean(all_accuracies)\n",
    "                mean_loss = np.mean(all_losses)\n",
    "\n",
    "                with open(log_file, \"a\") as f:\n",
    "                    f.write(f\"Trial {trial_number}\\n\")\n",
    "                    f.write(f\"Learning Rate: {i}, Epochs: {j}\\n\")\n",
    "                    f.write(f\"Test Loss: {mean_loss}, Accuracy: {mean_accuracy}\\n\")\n",
    "                    f.write(f\"Confusion Matrix:\\n{accumulated_cm_percentage}\\n\\n\")\n",
    "\n",
    "                if best_model is None or mean_accuracy > best_model_accuracy:\n",
    "                    accuracies = all_accuracies\n",
    "                    best_model = model\n",
    "                    best_model_accuracy = mean_accuracy\n",
    "                    best_model_cfm = accumulated_cm_percentage\n",
    "                    best_model_loss = mean_loss\n",
    "                    best_model_lr = i\n",
    "                    best_model_epochs = j\n",
    "                    best_model_batch_size = m\n",
    "\n",
    "    return best_model, best_model_accuracy, best_model_cfm, best_model_loss, best_model_lr, best_model_epochs, best_model_batch_size, accuracies"
   ]
  },
  {
   "cell_type": "markdown",
   "metadata": {
    "id": "9-fobJlXRtr2"
   },
   "source": [
    "#### Escolha de funções de ativação\n",
    "\n",
    "Para as camadas escondidas testámos modelos com funções de ativação ReLU e funções de ativação LeakyReLU\n",
    "\"The ReLU function is the default activation function for hidden layers in modern MLP and CNN neural network models\"\n",
    "\"(The LeakyReLU function) does not have any linear component with zero derivatives (slopes). Therefore, it can avoid the dying ReLU problem\"\n",
    "\"The same usage of the ReLU function is also valid for the leaky ReLU function\"\n",
    "\n",
    "Para as camadas de output usámos sempre a função de ativação softmax\n",
    "\"We must use the softmax function in the output layer of a multiclass classification problem\""
   ]
  },
  {
   "cell_type": "code",
   "execution_count": 112,
   "metadata": {
    "id": "dkf6Vs-4Rtr2"
   },
   "outputs": [],
   "source": [
    "models = []"
   ]
  },
  {
   "cell_type": "markdown",
   "metadata": {
    "id": "9xljWrdmRtr2"
   },
   "source": [
    "#### MLP com 2 camadas escondidas e funções de ativação ReLU"
   ]
  },
  {
   "cell_type": "code",
   "execution_count": 115,
   "metadata": {
    "id": "SLTEuI_NRtr2"
   },
   "outputs": [],
   "source": [
    "def model1(X, n_neur, output_dim):\n",
    "    model = tf.keras.models.Sequential([\n",
    "        tf.keras.layers.Input(shape=(X.shape[1],)),\n",
    "        tf.keras.layers.Dense(n_neur[0], kernel_initializer=initialize_weights, activation='relu'),\n",
    "        tf.keras.layers.Dense(n_neur[1], kernel_initializer=initialize_weights, activation='relu'),\n",
    "        tf.keras.layers.Dense(output_dim, activation='softmax', kernel_initializer=initialize_weights)\n",
    "        ])\n",
    "    return model\n",
    "models.append(model1)"
   ]
  },
  {
   "cell_type": "markdown",
   "metadata": {
    "id": "U74fLERQRtr2"
   },
   "source": [
    "#### MLP com 2 camadas escondidas e funções de ativação LeakyReLU"
   ]
  },
  {
   "cell_type": "code",
   "execution_count": 118,
   "metadata": {
    "id": "E5STZy84Rtr3"
   },
   "outputs": [],
   "source": [
    "def model2(X, n_neur, output_dim):\n",
    "    model = tf.keras.models.Sequential([\n",
    "        tf.keras.layers.Input(shape=(X.shape[1],)),\n",
    "        tf.keras.layers.Dense(n_neur[0], kernel_initializer=initialize_weights),\n",
    "        tf.keras.layers.LeakyReLU(negative_slope=0.01),\n",
    "        tf.keras.layers.Dense(n_neur[1], kernel_initializer=initialize_weights),\n",
    "        tf.keras.layers.LeakyReLU(negative_slope=0.01),\n",
    "        tf.keras.layers.Dense(output_dim, activation='softmax', kernel_initializer=initialize_weights)\n",
    "    ])\n",
    "    return model\n",
    "models.append(model2)"
   ]
  },
  {
   "cell_type": "markdown",
   "metadata": {
    "id": "3Fmn2XpORtr3"
   },
   "source": [
    "#### MLP com 3 camadas escondidas e funções de ativação ReLU"
   ]
  },
  {
   "cell_type": "code",
   "execution_count": 121,
   "metadata": {
    "id": "1rMZwB6vRtr3"
   },
   "outputs": [],
   "source": [
    "def model3(X, n_neur, output_dim):\n",
    "    model = tf.keras.models.Sequential([\n",
    "        tf.keras.layers.Input(shape=(X.shape[1],)),\n",
    "        tf.keras.layers.Dense(n_neur[0], kernel_initializer=initialize_weights, activation='relu'),\n",
    "        tf.keras.layers.Dense(n_neur[1], kernel_initializer=initialize_weights, activation='relu'),\n",
    "        tf.keras.layers.Dense(n_neur[2], kernel_initializer=initialize_weights, activation='relu'),\n",
    "        tf.keras.layers.Dense(output_dim, activation='softmax', kernel_initializer=initialize_weights)\n",
    "    ])\n",
    "    return model\n",
    "models.append(model3)"
   ]
  },
  {
   "cell_type": "markdown",
   "metadata": {
    "id": "QAr1sxVbRtr3"
   },
   "source": [
    "#### MLP com 3 camadas escondidas e funções de ativação LeakyReLU"
   ]
  },
  {
   "cell_type": "code",
   "execution_count": 124,
   "metadata": {
    "id": "x6OXK2MlRtr3"
   },
   "outputs": [],
   "source": [
    "def model4(X, n_neur, output_dim):\n",
    "    model = tf.keras.models.Sequential([\n",
    "        tf.keras.layers.Input(shape=(X.shape[1],)),\n",
    "        tf.keras.layers.Dense(n_neur[0], kernel_initializer=initialize_weights),\n",
    "        tf.keras.layers.LeakyReLU(negative_slope=0.01),\n",
    "        tf.keras.layers.Dense(n_neur[1], kernel_initializer=initialize_weights),\n",
    "        tf.keras.layers.LeakyReLU(negative_slope=0.01),\n",
    "        tf.keras.layers.Dense(n_neur[2], kernel_initializer=initialize_weights),\n",
    "        tf.keras.layers.LeakyReLU(negative_slope=0.01),\n",
    "        tf.keras.layers.Dense(output_dim, activation='softmax', kernel_initializer=initialize_weights)\n",
    "    ])\n",
    "    return model\n",
    "models.append(model4)"
   ]
  },
  {
   "cell_type": "markdown",
   "metadata": {
    "id": "6vdhr8pkRtr3"
   },
   "source": [
    "#### Encontrar o melhor modelo MLP"
   ]
  },
  {
   "cell_type": "code",
   "execution_count": null,
   "metadata": {
    "colab": {
     "base_uri": "https://localhost:8080/"
    },
    "id": "LKmHWOzFRtr3",
    "outputId": "3711d062-2083-4e2f-b702-9a21602044b0"
   },
   "outputs": [],
   "source": [
    "best_model = None\n",
    "best_model_accuracy = 0\n",
    "n_mod = 1\n",
    "for model_func in models:\n",
    "    n_neur, output_dim = n_neuronios(new_X)\n",
    "    model = model_func(new_X, n_neur, output_dim)\n",
    "    model, model_accuracy, model_cfm, model_loss, model_lr, model_epochs, model_batch_size, accuracies = grid_search(model, new_X, y, data, n_mod)\n",
    "    if best_model == None or model_accuracy > best_model_accuracy:\n",
    "        best_model = model\n",
    "        best_model_accuracies = accuracies\n",
    "        best_model_accuracy = model_accuracy\n",
    "        best_model_cfm = model_cfm\n",
    "        best_model_loss = model_loss\n",
    "        best_model_lr = model_lr\n",
    "        best_model_epochs = model_epochs\n",
    "        best_model_batch_size = model_batch_size\n",
    "    n_mod += 1"
   ]
  },
  {
   "cell_type": "code",
   "execution_count": 131,
   "metadata": {
    "id": "9sXGeQqmRtr3"
   },
   "outputs": [
    {
     "data": {
      "text/html": [
       "<pre style=\"white-space:pre;overflow-x:auto;line-height:normal;font-family:Menlo,'DejaVu Sans Mono',consolas,'Courier New',monospace\"><span style=\"font-weight: bold\">Model: \"sequential_7\"</span>\n",
       "</pre>\n"
      ],
      "text/plain": [
       "\u001b[1mModel: \"sequential_7\"\u001b[0m\n"
      ]
     },
     "metadata": {},
     "output_type": "display_data"
    },
    {
     "data": {
      "text/html": [
       "<pre style=\"white-space:pre;overflow-x:auto;line-height:normal;font-family:Menlo,'DejaVu Sans Mono',consolas,'Courier New',monospace\">┏━━━━━━━━━━━━━━━━━━━━━━━━━━━━━━━━━━━━━━┳━━━━━━━━━━━━━━━━━━━━━━━━━━━━━┳━━━━━━━━━━━━━━━━━┓\n",
       "┃<span style=\"font-weight: bold\"> Layer (type)                         </span>┃<span style=\"font-weight: bold\"> Output Shape                </span>┃<span style=\"font-weight: bold\">         Param # </span>┃\n",
       "┡━━━━━━━━━━━━━━━━━━━━━━━━━━━━━━━━━━━━━━╇━━━━━━━━━━━━━━━━━━━━━━━━━━━━━╇━━━━━━━━━━━━━━━━━┩\n",
       "│ dense_23 (<span style=\"color: #0087ff; text-decoration-color: #0087ff\">Dense</span>)                     │ (<span style=\"color: #00d7ff; text-decoration-color: #00d7ff\">None</span>, <span style=\"color: #00af00; text-decoration-color: #00af00\">10</span>)                  │             <span style=\"color: #00af00; text-decoration-color: #00af00\">110</span> │\n",
       "├──────────────────────────────────────┼─────────────────────────────┼─────────────────┤\n",
       "│ leaky_re_lu_5 (<span style=\"color: #0087ff; text-decoration-color: #0087ff\">LeakyReLU</span>)            │ (<span style=\"color: #00d7ff; text-decoration-color: #00d7ff\">None</span>, <span style=\"color: #00af00; text-decoration-color: #00af00\">10</span>)                  │               <span style=\"color: #00af00; text-decoration-color: #00af00\">0</span> │\n",
       "├──────────────────────────────────────┼─────────────────────────────┼─────────────────┤\n",
       "│ dense_24 (<span style=\"color: #0087ff; text-decoration-color: #0087ff\">Dense</span>)                     │ (<span style=\"color: #00d7ff; text-decoration-color: #00d7ff\">None</span>, <span style=\"color: #00af00; text-decoration-color: #00af00\">6</span>)                   │              <span style=\"color: #00af00; text-decoration-color: #00af00\">66</span> │\n",
       "├──────────────────────────────────────┼─────────────────────────────┼─────────────────┤\n",
       "│ leaky_re_lu_6 (<span style=\"color: #0087ff; text-decoration-color: #0087ff\">LeakyReLU</span>)            │ (<span style=\"color: #00d7ff; text-decoration-color: #00d7ff\">None</span>, <span style=\"color: #00af00; text-decoration-color: #00af00\">6</span>)                   │               <span style=\"color: #00af00; text-decoration-color: #00af00\">0</span> │\n",
       "├──────────────────────────────────────┼─────────────────────────────┼─────────────────┤\n",
       "│ dense_25 (<span style=\"color: #0087ff; text-decoration-color: #0087ff\">Dense</span>)                     │ (<span style=\"color: #00d7ff; text-decoration-color: #00d7ff\">None</span>, <span style=\"color: #00af00; text-decoration-color: #00af00\">10</span>)                  │              <span style=\"color: #00af00; text-decoration-color: #00af00\">70</span> │\n",
       "└──────────────────────────────────────┴─────────────────────────────┴─────────────────┘\n",
       "</pre>\n"
      ],
      "text/plain": [
       "┏━━━━━━━━━━━━━━━━━━━━━━━━━━━━━━━━━━━━━━┳━━━━━━━━━━━━━━━━━━━━━━━━━━━━━┳━━━━━━━━━━━━━━━━━┓\n",
       "┃\u001b[1m \u001b[0m\u001b[1mLayer (type)                        \u001b[0m\u001b[1m \u001b[0m┃\u001b[1m \u001b[0m\u001b[1mOutput Shape               \u001b[0m\u001b[1m \u001b[0m┃\u001b[1m \u001b[0m\u001b[1m        Param #\u001b[0m\u001b[1m \u001b[0m┃\n",
       "┡━━━━━━━━━━━━━━━━━━━━━━━━━━━━━━━━━━━━━━╇━━━━━━━━━━━━━━━━━━━━━━━━━━━━━╇━━━━━━━━━━━━━━━━━┩\n",
       "│ dense_23 (\u001b[38;5;33mDense\u001b[0m)                     │ (\u001b[38;5;45mNone\u001b[0m, \u001b[38;5;34m10\u001b[0m)                  │             \u001b[38;5;34m110\u001b[0m │\n",
       "├──────────────────────────────────────┼─────────────────────────────┼─────────────────┤\n",
       "│ leaky_re_lu_5 (\u001b[38;5;33mLeakyReLU\u001b[0m)            │ (\u001b[38;5;45mNone\u001b[0m, \u001b[38;5;34m10\u001b[0m)                  │               \u001b[38;5;34m0\u001b[0m │\n",
       "├──────────────────────────────────────┼─────────────────────────────┼─────────────────┤\n",
       "│ dense_24 (\u001b[38;5;33mDense\u001b[0m)                     │ (\u001b[38;5;45mNone\u001b[0m, \u001b[38;5;34m6\u001b[0m)                   │              \u001b[38;5;34m66\u001b[0m │\n",
       "├──────────────────────────────────────┼─────────────────────────────┼─────────────────┤\n",
       "│ leaky_re_lu_6 (\u001b[38;5;33mLeakyReLU\u001b[0m)            │ (\u001b[38;5;45mNone\u001b[0m, \u001b[38;5;34m6\u001b[0m)                   │               \u001b[38;5;34m0\u001b[0m │\n",
       "├──────────────────────────────────────┼─────────────────────────────┼─────────────────┤\n",
       "│ dense_25 (\u001b[38;5;33mDense\u001b[0m)                     │ (\u001b[38;5;45mNone\u001b[0m, \u001b[38;5;34m10\u001b[0m)                  │              \u001b[38;5;34m70\u001b[0m │\n",
       "└──────────────────────────────────────┴─────────────────────────────┴─────────────────┘\n"
      ]
     },
     "metadata": {},
     "output_type": "display_data"
    },
    {
     "data": {
      "text/html": [
       "<pre style=\"white-space:pre;overflow-x:auto;line-height:normal;font-family:Menlo,'DejaVu Sans Mono',consolas,'Courier New',monospace\"><span style=\"font-weight: bold\"> Total params: </span><span style=\"color: #00af00; text-decoration-color: #00af00\">740</span> (2.89 KB)\n",
       "</pre>\n"
      ],
      "text/plain": [
       "\u001b[1m Total params: \u001b[0m\u001b[38;5;34m740\u001b[0m (2.89 KB)\n"
      ]
     },
     "metadata": {},
     "output_type": "display_data"
    },
    {
     "data": {
      "text/html": [
       "<pre style=\"white-space:pre;overflow-x:auto;line-height:normal;font-family:Menlo,'DejaVu Sans Mono',consolas,'Courier New',monospace\"><span style=\"font-weight: bold\"> Trainable params: </span><span style=\"color: #00af00; text-decoration-color: #00af00\">246</span> (984.00 B)\n",
       "</pre>\n"
      ],
      "text/plain": [
       "\u001b[1m Trainable params: \u001b[0m\u001b[38;5;34m246\u001b[0m (984.00 B)\n"
      ]
     },
     "metadata": {},
     "output_type": "display_data"
    },
    {
     "data": {
      "text/html": [
       "<pre style=\"white-space:pre;overflow-x:auto;line-height:normal;font-family:Menlo,'DejaVu Sans Mono',consolas,'Courier New',monospace\"><span style=\"font-weight: bold\"> Non-trainable params: </span><span style=\"color: #00af00; text-decoration-color: #00af00\">0</span> (0.00 B)\n",
       "</pre>\n"
      ],
      "text/plain": [
       "\u001b[1m Non-trainable params: \u001b[0m\u001b[38;5;34m0\u001b[0m (0.00 B)\n"
      ]
     },
     "metadata": {},
     "output_type": "display_data"
    },
    {
     "data": {
      "text/html": [
       "<pre style=\"white-space:pre;overflow-x:auto;line-height:normal;font-family:Menlo,'DejaVu Sans Mono',consolas,'Courier New',monospace\"><span style=\"font-weight: bold\"> Optimizer params: </span><span style=\"color: #00af00; text-decoration-color: #00af00\">494</span> (1.93 KB)\n",
       "</pre>\n"
      ],
      "text/plain": [
       "\u001b[1m Optimizer params: \u001b[0m\u001b[38;5;34m494\u001b[0m (1.93 KB)\n"
      ]
     },
     "metadata": {},
     "output_type": "display_data"
    },
    {
     "name": "stdout",
     "output_type": "stream",
     "text": [
      "None\n",
      "Learning rate:  0.001\n",
      "Number of epochs:  50\n",
      "Batch Size:  128\n",
      "Accuracy:  0.6599192082881927\n",
      "Loss:  0.993834125995636\n"
     ]
    },
    {
     "data": {
      "image/png": "[encoded data removed]",
      "text/plain": [
       "<Figure size 1000x700 with 2 Axes>"
      ]
     },
     "metadata": {},
     "output_type": "display_data"
    }
   ],
   "source": [
    "log_file = \"accuracies_mlp\"\n",
    "with open(log_file, \"w\") as f:\n",
    "    f.write(f\"Best Model 10-cross-validation Metrics:\\n\\n\")\n",
    "    f.write(f\"Accuracies: {best_model_accuracies}\\n\")\n",
    "    f.write(f\"Mean Accuracy: {best_model_accuracy}\\n\")\n",
    "    f.write(f\"Mean Loss: {best_model_loss}\\n\")\n",
    "    f.write(f\"Confusion Matrix:\\n{best_model_cfm}\\n\\n\")\n",
    "\n",
    "print(best_model.summary())\n",
    "print(\"Learning rate: \", best_model_lr)\n",
    "print(\"Number of epochs: \", best_model_epochs)\n",
    "print(\"Batch Size: \", best_model_batch_size)\n",
    "print(\"Accuracy: \", best_model_accuracy)\n",
    "print(\"Loss: \", best_model_loss)\n",
    "\n",
    "cm = pd.DataFrame(best_model_cfm, index=label_encoder.classes_, columns=label_encoder.classes_)\n",
    "\n",
    "plt.figure(figsize=(10, 7))\n",
    "sns.heatmap(cm, annot=True, fmt='g', cmap='Blues')\n",
    "\n",
    "plt.title('Matriz de Confusão')\n",
    "plt.xlabel('Previsão')\n",
    "plt.ylabel('Verdadeiro')\n",
    "plt.show()"
   ]
  },
  {
   "cell_type": "markdown",
   "metadata": {
    "id": "XJG5XZiSRtr3"
   },
   "source": [
    "---"
   ]
  },
  {
   "cell_type": "markdown",
   "metadata": {
    "id": "l5v6lh6iRtr4"
   },
   "source": [
    "## Pré processamento de dados para a Rede Neural Convolucional"
   ]
  },
  {
   "cell_type": "markdown",
   "metadata": {
    "id": "PDe_iVJLRtr4"
   },
   "source": [
    "#### Importação dos dados"
   ]
  },
  {
   "cell_type": "code",
   "execution_count": null,
   "metadata": {
    "colab": {
     "base_uri": "https://localhost:8080/",
     "height": 206
    },
    "id": "Yl0rrxtgRtr4",
    "outputId": "be76fad8-c11b-4b9d-fbb2-3c3c3b3a01c1"
   },
   "outputs": [
    {
     "data": {
      "application/vnd.google.colaboratory.intrinsic+json": {
       "summary": "{\n  \"name\": \"metadata\",\n  \"rows\": 8732,\n  \"fields\": [\n    {\n      \"column\": \"slice_file_name\",\n      \"properties\": {\n        \"dtype\": \"string\",\n        \"num_unique_values\": 8732,\n        \"samples\": [\n          \"54898-8-0-2.wav\",\n          \"172338-9-0-7.wav\",\n          \"95562-4-3-0.wav\"\n        ],\n        \"semantic_type\": \"\",\n        \"description\": \"\"\n      }\n    },\n    {\n      \"column\": \"fsID\",\n      \"properties\": {\n        \"dtype\": \"number\",\n        \"std\": 57991,\n        \"min\": 344,\n        \"max\": 209992,\n        \"num_unique_values\": 1297,\n        \"samples\": [\n          180257,\n          157940,\n          20015\n        ],\n        \"semantic_type\": \"\",\n        \"description\": \"\"\n      }\n    },\n    {\n      \"column\": \"start\",\n      \"properties\": {\n        \"dtype\": \"number\",\n        \"std\": 74.29212630755417,\n        \"min\": 0.0,\n        \"max\": 600.125356,\n        \"num_unique_values\": 4878,\n        \"samples\": [\n          10.038318,\n          5.711988,\n          4.634753\n        ],\n        \"semantic_type\": \"\",\n        \"description\": \"\"\n      }\n    },\n    {\n      \"column\": \"end\",\n      \"properties\": {\n        \"dtype\": \"number\",\n        \"std\": 74.36966935075809,\n        \"min\": 0.105962,\n        \"max\": 604.125356,\n        \"num_unique_values\": 5020,\n        \"samples\": [\n          13.168347,\n          2.653802,\n          10.286916\n        ],\n        \"semantic_type\": \"\",\n        \"description\": \"\"\n      }\n    },\n    {\n      \"column\": \"salience\",\n      \"properties\": {\n        \"dtype\": \"number\",\n        \"std\": 0,\n        \"min\": 1,\n        \"max\": 2,\n        \"num_unique_values\": 2,\n        \"samples\": [\n          2,\n          1\n        ],\n        \"semantic_type\": \"\",\n        \"description\": \"\"\n      }\n    },\n    {\n      \"column\": \"fold\",\n      \"properties\": {\n        \"dtype\": \"number\",\n        \"std\": 2,\n        \"min\": 1,\n        \"max\": 10,\n        \"num_unique_values\": 10,\n        \"samples\": [\n          3,\n          10\n        ],\n        \"semantic_type\": \"\",\n        \"description\": \"\"\n      }\n    },\n    {\n      \"column\": \"classID\",\n      \"properties\": {\n        \"dtype\": \"number\",\n        \"std\": 2,\n        \"min\": 0,\n        \"max\": 9,\n        \"num_unique_values\": 10,\n        \"samples\": [\n          7,\n          2\n        ],\n        \"semantic_type\": \"\",\n        \"description\": \"\"\n      }\n    },\n    {\n      \"column\": \"class\",\n      \"properties\": {\n        \"dtype\": \"category\",\n        \"num_unique_values\": 10,\n        \"samples\": [\n          \"jackhammer\",\n          \"children_playing\"\n        ],\n        \"semantic_type\": \"\",\n        \"description\": \"\"\n      }\n    }\n  ]\n}",
       "type": "dataframe",
       "variable_name": "metadata"
      },
      "text/html": [
       "\n",
       "  <div id=\"df-c4c55fcc-7729-402b-8237-e4043e13f296\" class=\"colab-df-container\">\n",
       "    <div>\n",
       "<style scoped>\n",
       "    .dataframe tbody tr th:only-of-type {\n",
       "        vertical-align: middle;\n",
       "    }\n",
       "\n",
       "    .dataframe tbody tr th {\n",
       "        vertical-align: top;\n",
       "    }\n",
       "\n",
       "    .dataframe thead th {\n",
       "        text-align: right;\n",
       "    }\n",
       "</style>\n",
       "<table border=\"1\" class=\"dataframe\">\n",
       "  <thead>\n",
       "    <tr style=\"text-align: right;\">\n",
       "      <th></th>\n",
       "      <th>slice_file_name</th>\n",
       "      <th>fsID</th>\n",
       "      <th>start</th>\n",
       "      <th>end</th>\n",
       "      <th>salience</th>\n",
       "      <th>fold</th>\n",
       "      <th>classID</th>\n",
       "      <th>class</th>\n",
       "    </tr>\n",
       "  </thead>\n",
       "  <tbody>\n",
       "    <tr>\n",
       "      <th>0</th>\n",
       "      <td>100032-3-0-0.wav</td>\n",
       "      <td>100032</td>\n",
       "      <td>0.0</td>\n",
       "      <td>0.317551</td>\n",
       "      <td>1</td>\n",
       "      <td>5</td>\n",
       "      <td>3</td>\n",
       "      <td>dog_bark</td>\n",
       "    </tr>\n",
       "    <tr>\n",
       "      <th>1</th>\n",
       "      <td>100263-2-0-117.wav</td>\n",
       "      <td>100263</td>\n",
       "      <td>58.5</td>\n",
       "      <td>62.500000</td>\n",
       "      <td>1</td>\n",
       "      <td>5</td>\n",
       "      <td>2</td>\n",
       "      <td>children_playing</td>\n",
       "    </tr>\n",
       "    <tr>\n",
       "      <th>2</th>\n",
       "      <td>100263-2-0-121.wav</td>\n",
       "      <td>100263</td>\n",
       "      <td>60.5</td>\n",
       "      <td>64.500000</td>\n",
       "      <td>1</td>\n",
       "      <td>5</td>\n",
       "      <td>2</td>\n",
       "      <td>children_playing</td>\n",
       "    </tr>\n",
       "    <tr>\n",
       "      <th>3</th>\n",
       "      <td>100263-2-0-126.wav</td>\n",
       "      <td>100263</td>\n",
       "      <td>63.0</td>\n",
       "      <td>67.000000</td>\n",
       "      <td>1</td>\n",
       "      <td>5</td>\n",
       "      <td>2</td>\n",
       "      <td>children_playing</td>\n",
       "    </tr>\n",
       "    <tr>\n",
       "      <th>4</th>\n",
       "      <td>100263-2-0-137.wav</td>\n",
       "      <td>100263</td>\n",
       "      <td>68.5</td>\n",
       "      <td>72.500000</td>\n",
       "      <td>1</td>\n",
       "      <td>5</td>\n",
       "      <td>2</td>\n",
       "      <td>children_playing</td>\n",
       "    </tr>\n",
       "  </tbody>\n",
       "</table>\n",
       "</div>\n",
       "    <div class=\"colab-df-buttons\">\n",
       "\n",
       "  <div class=\"colab-df-container\">\n",
       "    <button class=\"colab-df-convert\" onclick=\"convertToInteractive('df-c4c55fcc-7729-402b-8237-e4043e13f296')\"\n",
       "            title=\"Convert this dataframe to an interactive table.\"\n",
       "            style=\"display:none;\">\n",
       "\n",
       "  <svg xmlns=\"http://www.w3.org/2000/svg\" height=\"24px\" viewBox=\"0 -960 960 960\">\n",
       "    <path d=\"M120-120v-720h720v720H120Zm60-500h600v-160H180v160Zm220 220h160v-160H400v160Zm0 220h160v-160H400v160ZM180-400h160v-160H180v160Zm440 0h160v-160H620v160ZM180-180h160v-160H180v160Zm440 0h160v-160H620v160Z\"/>\n",
       "  </svg>\n",
       "    </button>\n",
       "\n",
       "  <style>\n",
       "    .colab-df-container {\n",
       "      display:flex;\n",
       "      gap: 12px;\n",
       "    }\n",
       "\n",
       "    .colab-df-convert {\n",
       "      background-color: #E8F0FE;\n",
       "      border: none;\n",
       "      border-radius: 50%;\n",
       "      cursor: pointer;\n",
       "      display: none;\n",
       "      fill: #1967D2;\n",
       "      height: 32px;\n",
       "      padding: 0 0 0 0;\n",
       "      width: 32px;\n",
       "    }\n",
       "\n",
       "    .colab-df-convert:hover {\n",
       "      background-color: #E2EBFA;\n",
       "      box-shadow: 0px 1px 2px rgba(60, 64, 67, 0.3), 0px 1px 3px 1px rgba(60, 64, 67, 0.15);\n",
       "      fill: #174EA6;\n",
       "    }\n",
       "\n",
       "    .colab-df-buttons div {\n",
       "      margin-bottom: 4px;\n",
       "    }\n",
       "\n",
       "    [theme=dark] .colab-df-convert {\n",
       "      background-color: #3B4455;\n",
       "      fill: #D2E3FC;\n",
       "    }\n",
       "\n",
       "    [theme=dark] .colab-df-convert:hover {\n",
       "      background-color: #434B5C;\n",
       "      box-shadow: 0px 1px 3px 1px rgba(0, 0, 0, 0.15);\n",
       "      filter: drop-shadow(0px 1px 2px rgba(0, 0, 0, 0.3));\n",
       "      fill: #FFFFFF;\n",
       "    }\n",
       "  </style>\n",
       "\n",
       "    <script>\n",
       "      const buttonEl =\n",
       "        document.querySelector('#df-c4c55fcc-7729-402b-8237-e4043e13f296 button.colab-df-convert');\n",
       "      buttonEl.style.display =\n",
       "        google.colab.kernel.accessAllowed ? 'block' : 'none';\n",
       "\n",
       "      async function convertToInteractive(key) {\n",
       "        const element = document.querySelector('#df-c4c55fcc-7729-402b-8237-e4043e13f296');\n",
       "        const dataTable =\n",
       "          await google.colab.kernel.invokeFunction('convertToInteractive',\n",
       "                                                    [key], {});\n",
       "        if (!dataTable) return;\n",
       "\n",
       "        const docLinkHtml = 'Like what you see? Visit the ' +\n",
       "          '<a target=\"_blank\" href=https://colab.research.google.com/notebooks/data_table.ipynb>data table notebook</a>'\n",
       "          + ' to learn more about interactive tables.';\n",
       "        element.innerHTML = '';\n",
       "        dataTable['output_type'] = 'display_data';\n",
       "        await google.colab.output.renderOutput(dataTable, element);\n",
       "        const docLink = document.createElement('div');\n",
       "        docLink.innerHTML = docLinkHtml;\n",
       "        element.appendChild(docLink);\n",
       "      }\n",
       "    </script>\n",
       "  </div>\n",
       "\n",
       "\n",
       "<div id=\"df-6a84d477-5f19-4d6f-b4e5-3f73818ea09f\">\n",
       "  <button class=\"colab-df-quickchart\" onclick=\"quickchart('df-6a84d477-5f19-4d6f-b4e5-3f73818ea09f')\"\n",
       "            title=\"Suggest charts\"\n",
       "            style=\"display:none;\">\n",
       "\n",
       "<svg xmlns=\"http://www.w3.org/2000/svg\" height=\"24px\"viewBox=\"0 0 24 24\"\n",
       "     width=\"24px\">\n",
       "    <g>\n",
       "        <path d=\"M19 3H5c-1.1 0-2 .9-2 2v14c0 1.1.9 2 2 2h14c1.1 0 2-.9 2-2V5c0-1.1-.9-2-2-2zM9 17H7v-7h2v7zm4 0h-2V7h2v10zm4 0h-2v-4h2v4z\"/>\n",
       "    </g>\n",
       "</svg>\n",
       "  </button>\n",
       "\n",
       "<style>\n",
       "  .colab-df-quickchart {\n",
       "      --bg-color: #E8F0FE;\n",
       "      --fill-color: #1967D2;\n",
       "      --hover-bg-color: #E2EBFA;\n",
       "      --hover-fill-color: #174EA6;\n",
       "      --disabled-fill-color: #AAA;\n",
       "      --disabled-bg-color: #DDD;\n",
       "  }\n",
       "\n",
       "  [theme=dark] .colab-df-quickchart {\n",
       "      --bg-color: #3B4455;\n",
       "      --fill-color: #D2E3FC;\n",
       "      --hover-bg-color: #434B5C;\n",
       "      --hover-fill-color: #FFFFFF;\n",
       "      --disabled-bg-color: #3B4455;\n",
       "      --disabled-fill-color: #666;\n",
       "  }\n",
       "\n",
       "  .colab-df-quickchart {\n",
       "    background-color: var(--bg-color);\n",
       "    border: none;\n",
       "    border-radius: 50%;\n",
       "    cursor: pointer;\n",
       "    display: none;\n",
       "    fill: var(--fill-color);\n",
       "    height: 32px;\n",
       "    padding: 0;\n",
       "    width: 32px;\n",
       "  }\n",
       "\n",
       "  .colab-df-quickchart:hover {\n",
       "    background-color: var(--hover-bg-color);\n",
       "    box-shadow: 0 1px 2px rgba(60, 64, 67, 0.3), 0 1px 3px 1px rgba(60, 64, 67, 0.15);\n",
       "    fill: var(--button-hover-fill-color);\n",
       "  }\n",
       "\n",
       "  .colab-df-quickchart-complete:disabled,\n",
       "  .colab-df-quickchart-complete:disabled:hover {\n",
       "    background-color: var(--disabled-bg-color);\n",
       "    fill: var(--disabled-fill-color);\n",
       "    box-shadow: none;\n",
       "  }\n",
       "\n",
       "  .colab-df-spinner {\n",
       "    border: 2px solid var(--fill-color);\n",
       "    border-color: transparent;\n",
       "    border-bottom-color: var(--fill-color);\n",
       "    animation:\n",
       "      spin 1s steps(1) infinite;\n",
       "  }\n",
       "\n",
       "  @keyframes spin {\n",
       "    0% {\n",
       "      border-color: transparent;\n",
       "      border-bottom-color: var(--fill-color);\n",
       "      border-left-color: var(--fill-color);\n",
       "    }\n",
       "    20% {\n",
       "      border-color: transparent;\n",
       "      border-left-color: var(--fill-color);\n",
       "      border-top-color: var(--fill-color);\n",
       "    }\n",
       "    30% {\n",
       "      border-color: transparent;\n",
       "      border-left-color: var(--fill-color);\n",
       "      border-top-color: var(--fill-color);\n",
       "      border-right-color: var(--fill-color);\n",
       "    }\n",
       "    40% {\n",
       "      border-color: transparent;\n",
       "      border-right-color: var(--fill-color);\n",
       "      border-top-color: var(--fill-color);\n",
       "    }\n",
       "    60% {\n",
       "      border-color: transparent;\n",
       "      border-right-color: var(--fill-color);\n",
       "    }\n",
       "    80% {\n",
       "      border-color: transparent;\n",
       "      border-right-color: var(--fill-color);\n",
       "      border-bottom-color: var(--fill-color);\n",
       "    }\n",
       "    90% {\n",
       "      border-color: transparent;\n",
       "      border-bottom-color: var(--fill-color);\n",
       "    }\n",
       "  }\n",
       "</style>\n",
       "\n",
       "  <script>\n",
       "    async function quickchart(key) {\n",
       "      const quickchartButtonEl =\n",
       "        document.querySelector('#' + key + ' button');\n",
       "      quickchartButtonEl.disabled = true;  // To prevent multiple clicks.\n",
       "      quickchartButtonEl.classList.add('colab-df-spinner');\n",
       "      try {\n",
       "        const charts = await google.colab.kernel.invokeFunction(\n",
       "            'suggestCharts', [key], {});\n",
       "      } catch (error) {\n",
       "        console.error('Error during call to suggestCharts:', error);\n",
       "      }\n",
       "      quickchartButtonEl.classList.remove('colab-df-spinner');\n",
       "      quickchartButtonEl.classList.add('colab-df-quickchart-complete');\n",
       "    }\n",
       "    (() => {\n",
       "      let quickchartButtonEl =\n",
       "        document.querySelector('#df-6a84d477-5f19-4d6f-b4e5-3f73818ea09f button');\n",
       "      quickchartButtonEl.style.display =\n",
       "        google.colab.kernel.accessAllowed ? 'block' : 'none';\n",
       "    })();\n",
       "  </script>\n",
       "</div>\n",
       "\n",
       "    </div>\n",
       "  </div>\n"
      ],
      "text/plain": [
       "      slice_file_name    fsID  start        end  salience  fold  classID  \\\n",
       "0    100032-3-0-0.wav  100032    0.0   0.317551         1     5        3   \n",
       "1  100263-2-0-117.wav  100263   58.5  62.500000         1     5        2   \n",
       "2  100263-2-0-121.wav  100263   60.5  64.500000         1     5        2   \n",
       "3  100263-2-0-126.wav  100263   63.0  67.000000         1     5        2   \n",
       "4  100263-2-0-137.wav  100263   68.5  72.500000         1     5        2   \n",
       "\n",
       "              class  \n",
       "0          dog_bark  \n",
       "1  children_playing  \n",
       "2  children_playing  \n",
       "3  children_playing  \n",
       "4  children_playing  "
      ]
     },
     "execution_count": 25,
     "metadata": {},
     "output_type": "execute_result"
    }
   ],
   "source": [
    "metadata_path = '/content/drive/MyDrive/Trabalho_AC2/UrbanSound8K/metadata/UrbanSound8K.csv'\n",
    "\n",
    "metadata = pd.read_csv(metadata_path)\n",
    "\n",
    "metadata.head()"
   ]
  },
  {
   "cell_type": "code",
   "execution_count": null,
   "metadata": {
    "colab": {
     "base_uri": "https://localhost:8080/"
    },
    "id": "xZ4NueooRtr4",
    "outputId": "cfcfafdf-6e69-4398-f8cd-eda61f690ebe"
   },
   "outputs": [
    {
     "name": "stdout",
     "output_type": "stream",
     "text": [
      "['dog_bark' 'children_playing' 'car_horn' 'air_conditioner' 'street_music'\n",
      " 'gun_shot' 'siren' 'engine_idling' 'jackhammer' 'drilling']\n"
     ]
    }
   ],
   "source": [
    "labels = metadata['class'].unique()\n",
    "print(labels)"
   ]
  },
  {
   "cell_type": "markdown",
   "metadata": {
    "id": "JZUBeafHRtr4"
   },
   "source": [
    "#### Aplicação do Espectograma de Mel aos dados em áudio\n",
    "\n",
    "Por tentativa/erro percebemos que um número de mels adequados para o tamanho dos áudios seria 32. Mais do que isso geraria filtros vazios. Para além disso, definimos a frequência máxima como o mínimo entre metade da taxa de amostragem e 8kHz para obtermos valores razoáveis"
   ]
  },
  {
   "cell_type": "code",
   "execution_count": null,
   "metadata": {
    "id": "o4YCb52CRtr4"
   },
   "outputs": [],
   "source": [
    "def melspectrogram(file_path, target_length=376):\n",
    "    audio, sr = librosa.load(file_path, sr=None)\n",
    "    if audio.size == 0:\n",
    "        raise ValueError(f\"Arquivo de áudio vazio: {file_path}\")\n",
    "\n",
    "    fmax = min(8000, sr / 2)\n",
    "    mel_spec = librosa.feature.melspectrogram(y=audio, sr=sr, n_mels=32, fmax=fmax)\n",
    "    mel_spec_db = librosa.power_to_db(mel_spec, ref=np.max)\n",
    "    current_length = mel_spec_db.shape[-1]\n",
    "\n",
    "    if current_length < target_length:\n",
    "        mel_spec_db = np.pad(mel_spec_db, ((0, 0), (0, target_length - current_length)), mode='constant')\n",
    "    elif current_length > target_length:\n",
    "        mel_spec_db = mel_spec_db[:, :target_length]\n",
    "\n",
    "    if np.all(mel_spec_db == 0):\n",
    "        raise ValueError(f\"Espectrograma vazio para o arquivo: {file_path}\")\n",
    "\n",
    "    mel_spec_db = (mel_spec_db - mel_spec_db.min()) / (mel_spec_db.max() - mel_spec_db.min())\n",
    "\n",
    "    return mel_spec_db"
   ]
  },
  {
   "cell_type": "markdown",
   "metadata": {
    "id": "oM0i7aR_Rtr4"
   },
   "source": [
    "#### Aplicação dos Coeficientes Cepstrais de Frequência de Mel aos dados em áudio\n",
    "\n",
    "Por tentativa/erro percebemos que um número de mels adequados para o tamanho dos áudios seria 128"
   ]
  },
  {
   "cell_type": "code",
   "execution_count": null,
   "metadata": {
    "id": "duBs9ux-Rtr4"
   },
   "outputs": [],
   "source": [
    "def mfcc(file_path, target_length=376):\n",
    "    audio, sr = librosa.load(file_path, sr=None)\n",
    "    mfcc = librosa.feature.mfcc(y=audio, sr=sr, n_mfcc=20, n_fft=2048, hop_length=512, n_mels=128)\n",
    "\n",
    "    current_length = mfcc.shape[-1]\n",
    "    if current_length < target_length:\n",
    "        mfcc = np.pad(mfcc, ((0, 0), (0, target_length - current_length)), mode='constant')\n",
    "    elif current_length > target_length:\n",
    "        mfcc = mfcc[:, :target_length]\n",
    "    return mfcc"
   ]
  },
  {
   "cell_type": "markdown",
   "metadata": {
    "id": "YpccisyPRtr4"
   },
   "source": [
    "#### Processar e guardar todos os áudios de acordo com o tipo de input que queremos fornecer à CNN"
   ]
  },
  {
   "cell_type": "code",
   "execution_count": null,
   "metadata": {
    "id": "9Agvx1PeRtr4"
   },
   "outputs": [],
   "source": [
    "def save_input(input_audio_path, image, output_folder):\n",
    "    if not os.path.exists(output_folder):\n",
    "        os.makedirs(output_folder)\n",
    "\n",
    "    file_name = os.path.splitext(os.path.basename(input_audio_path))[0] + '.npy'\n",
    "    output_path = os.path.join(output_folder, file_name)\n",
    "\n",
    "    np.save(output_path, image)"
   ]
  },
  {
   "cell_type": "code",
   "execution_count": null,
   "metadata": {
    "id": "KxGdva3pRtr4"
   },
   "outputs": [],
   "source": [
    "def process_fold(input_folder, output_folder, input_type):\n",
    "    for file_name in os.listdir(input_folder):\n",
    "        if file_name.endswith('.wav'):\n",
    "            audio_path = os.path.join(input_folder, file_name)\n",
    "            if input_type == 'mfcc':\n",
    "                image = mfcc(audio_path)\n",
    "            elif input_type == 'melspec':\n",
    "                image = melspectrogram(audio_path)\n",
    "\n",
    "            save_input(audio_path, image, output_folder)\n",
    "\n",
    "\n",
    "def process_all_folds(audio_root, input_type):\n",
    "    if input_type == 'mfcc':\n",
    "        processed_root = \"processed_mfcc\"\n",
    "    elif input_type == 'melspec':\n",
    "        processed_root = \"processed_melspec\"\n",
    "\n",
    "    os.makedirs(processed_root, exist_ok=True)\n",
    "\n",
    "    for fold in os.listdir(audio_root):\n",
    "        fold_path = os.path.join(audio_root, fold)\n",
    "        if os.path.isdir(fold_path):\n",
    "            processed_fold_path = os.path.join(processed_root, fold)\n",
    "\n",
    "            os.makedirs(processed_fold_path, exist_ok=True)\n",
    "\n",
    "            process_fold(fold_path, processed_fold_path, input_type)"
   ]
  },
  {
   "cell_type": "markdown",
   "metadata": {
    "id": "z6Uw5XWcRtr5"
   },
   "source": [
    "#### Criação da classe AudioDataset para facilitar a manipulação dos dados"
   ]
  },
  {
   "cell_type": "code",
   "execution_count": null,
   "metadata": {
    "id": "0hqML45CRtr5"
   },
   "outputs": [],
   "source": [
    "class AudioDataset(Dataset):\n",
    "    def __init__(self, file_paths, labels, transform=None, target_length=376):\n",
    "        self.file_paths = file_paths\n",
    "        self.labels = labels\n",
    "        self.transform = transform\n",
    "        self.target_length = target_length\n",
    "\n",
    "    def __len__(self):\n",
    "        return len(self.file_paths)\n",
    "\n",
    "    def __getitem__(self, index):\n",
    "        file_path = self.file_paths[index]\n",
    "        label = self.labels[index]\n",
    "\n",
    "        try:\n",
    "            features = np.load(file_path)\n",
    "        except FileNotFoundError as e:\n",
    "            print(e)\n",
    "            features = np.zeros((32, 376))\n",
    "\n",
    "        features = torch.tensor(features, dtype=torch.float32).unsqueeze(0)\n",
    "\n",
    "        if self.transform:\n",
    "            features = self.transform(features)\n",
    "\n",
    "        return features, label"
   ]
  },
  {
   "cell_type": "markdown",
   "metadata": {
    "id": "jNrjZVqSRtr5"
   },
   "source": [
    "#### Definição dos folds de acordo com os folds dos dados originais\n",
    "\n",
    "Como estamos a definir os dados para a otimização bayesiana não vamos aplicar 10-cross-validation, por isso atribuimos 1 fold específico para teste, 1 fold específico para desenvolvimento e os restantes para treino"
   ]
  },
  {
   "cell_type": "code",
   "execution_count": null,
   "metadata": {
    "id": "76C7m-IARtr5"
   },
   "outputs": [],
   "source": [
    "folds = {i: [] for i in range(1, 11)}\n",
    "\n",
    "for i in range(len(metadata)):\n",
    "    fold_number = metadata.iloc[i]['fold']\n",
    "    folds[fold_number].append(i)\n",
    "\n",
    "def get_train_val_test_split(folds, test_fold, dev_fold):\n",
    "    train_indices = []\n",
    "    test_indices = folds[test_fold]\n",
    "    dev_indices = folds[dev_fold]\n",
    "\n",
    "    for fold in folds:\n",
    "        if fold != test_fold and fold != dev_fold:\n",
    "            train_indices.extend(folds[fold])\n",
    "\n",
    "    X_train = X[train_indices]\n",
    "    y_train = y[train_indices]\n",
    "    X_dev = X[dev_indices]\n",
    "    y_dev = y[dev_indices]\n",
    "    X_test = X[test_indices]\n",
    "    y_test = y[test_indices]\n",
    "\n",
    "    le = LabelEncoder()\n",
    "    y_train = le.fit_transform(y_train)\n",
    "    y_dev = le.transform(y_dev)\n",
    "    y_test = le.transform(y_test)\n",
    "\n",
    "    return X_train, y_train, X_dev, y_dev, X_test, y_test"
   ]
  },
  {
   "cell_type": "markdown",
   "metadata": {
    "id": "-F8UBY04Rtr5"
   },
   "source": [
    "---"
   ]
  },
  {
   "cell_type": "markdown",
   "metadata": {
    "id": "XgqGVf3NRtr5"
   },
   "source": [
    "## Rede Neural Convolucional"
   ]
  },
  {
   "cell_type": "markdown",
   "metadata": {
    "id": "L7HUtnY6Rtr5"
   },
   "source": [
    "#### Definição do modelo CNN\n",
    "\n",
    "Após alguma pesquisa, decidimos criar um modelo com 4 camadas, uma camada convulsional, uma camada pooling e uma camada totalmente ligada. Não existe uma camada softmax para a saída pois iria interferir com o cálculo da cross-entropy-loss durante o treino. O que fizemos foi não definir a camada diretamente no modelo e depois transformar os outputs do modelo em labels \"manualmente\" antes de testar. O número de filtros, e de mapas de características (consequentemente) foi definido como 16 na primeira camada, uma escolha conservadora que permite ao modelo correr mais rápido, mas que desacelera um pouco o ritmo de aprendizagem."
   ]
  },
  {
   "cell_type": "code",
   "execution_count": null,
   "metadata": {
    "id": "ZwhL6RZTRtr5"
   },
   "outputs": [],
   "source": [
    "class CNNNetwork(nn.Module):\n",
    "    def __init__(self, n_mels):\n",
    "        super(CNNNetwork, self).__init__()\n",
    "        self.conv1 = nn.Sequential(\n",
    "            nn.Conv2d(1, 16, kernel_size=3, stride=1, padding=1),\n",
    "            nn.ReLU(),\n",
    "            nn.MaxPool2d(kernel_size=2, stride=2)\n",
    "        )\n",
    "        self.conv2 = nn.Sequential(\n",
    "            nn.Conv2d(16, 32, kernel_size=3, stride=1, padding=1),\n",
    "            nn.ReLU(),\n",
    "            nn.MaxPool2d(kernel_size=2, stride=2)\n",
    "        )\n",
    "        self.conv3 = nn.Sequential(\n",
    "            nn.Conv2d(32, 64, kernel_size=3, stride=1, padding=1),\n",
    "            nn.ReLU(),\n",
    "            nn.MaxPool2d(kernel_size=2, stride=2)\n",
    "        )\n",
    "        self.flatten = nn.Flatten()\n",
    "\n",
    "        dummy_input = torch.randn(1, 1, n_mels, 376)\n",
    "        dummy_output = self.conv1(dummy_input)\n",
    "        dummy_output = self.conv2(dummy_output)\n",
    "        dummy_output = self.conv3(dummy_output)\n",
    "        output_size = dummy_output.numel()\n",
    "\n",
    "        self.linear = nn.Linear(output_size, 10)\n",
    "\n",
    "    def forward(self, input_data):\n",
    "        x = self.conv1(input_data)\n",
    "        x = self.conv2(x)\n",
    "        x = self.conv3(x)\n",
    "        x = self.flatten(x)\n",
    "        logits = self.linear(x)\n",
    "        return logits"
   ]
  },
  {
   "cell_type": "markdown",
   "metadata": {
    "id": "R62tW0DFRtr5"
   },
   "source": [
    "#### Inicialização dos pesos\n",
    "\n",
    "Inicializamos sempre os pesos do modelo com uma função gaussiana. O bias é inicializado com o valor zero"
   ]
  },
  {
   "cell_type": "code",
   "execution_count": null,
   "metadata": {
    "id": "dzpYv0MqRtr5"
   },
   "outputs": [],
   "source": [
    "def initialize_weights(layer):\n",
    "    if isinstance(layer, (nn.Conv2d, nn.Linear)):\n",
    "        mean = 0.0\n",
    "        stddev = 0.01\n",
    "        with torch.no_grad():\n",
    "            layer.weight = nn.Parameter(torch.tensor(np.random.normal(loc=mean, scale=stddev, size=layer.weight.shape), dtype=torch.float32))\n",
    "        if layer.bias is not None:\n",
    "            nn.init.zeros_(layer.bias)"
   ]
  },
  {
   "cell_type": "markdown",
   "metadata": {
    "id": "Jjqoyvk4Rtr5"
   },
   "source": [
    "#### Otimização Bayesiana\n",
    "\n",
    "Nesta função corre-se uma otimização bayesiana dos hiperparâmetros de learning rate e nº de epochs (decidimos por um número fixo e razoável de batch size para não prejudicar ainda mais o tempo de execução). A otimização é baseada na loss (pensámos que era a melhor métrica, visto que a accuracy sem 10-cross-validation pode ser mais enganadora). O learning rate tem um scheduler que diminui em 10% o learning rate em cada epoch (para evitar overfitting). Esta otimização executa 20 tentativas para tentar encontrar os melhores parâmetros. No fim de cada epoch utiliza o fold de desenvolvimento para melhorar o treino do modelo e no fim de cada tentativa utiliza o fold de teste para testar o modelo treinado. Retorna os parâmetros do melhor modelo para depois se executar uma 10-cross-validation do modelo com esses parâmetros"
   ]
  },
  {
   "cell_type": "code",
   "execution_count": null,
   "metadata": {
    "id": "0-Q__N9tRtr5"
   },
   "outputs": [],
   "source": [
    "def bayesian_optimization_loss(model_class, log_file, n_mels):\n",
    "    batch_size = 64\n",
    "    best_model = None\n",
    "    best_accuracy = 0\n",
    "    best_cm_percentage = None\n",
    "    best_avg_test_loss = float('inf')\n",
    "\n",
    "    with open(log_file, \"w\") as f:\n",
    "        f.write(\"Resultados da Otimização Bayesiana\\n\\n\")\n",
    "\n",
    "    def plot_confusion_matrix(cm, trial_number):\n",
    "        plt.figure(figsize=(8, 6))\n",
    "        plt.imshow(cm, interpolation='nearest', cmap=plt.cm.Blues)\n",
    "        plt.title(f\"Confusion Matrix - Trial {trial_number}\")\n",
    "        plt.colorbar()\n",
    "        tick_marks = np.arange(len(cm))\n",
    "        plt.xticks(tick_marks, np.arange(cm.shape[1]))\n",
    "        plt.yticks(tick_marks, np.arange(cm.shape[0]))\n",
    "\n",
    "        thresh = cm.max() / 2\n",
    "        for i, j in np.ndindex(cm.shape):\n",
    "            plt.text(j, i, f\"{cm[i, j]:.2f}%\", horizontalalignment=\"center\",\n",
    "                     color=\"white\" if cm[i, j] > thresh else \"black\")\n",
    "\n",
    "        plt.xlabel('Predicted')\n",
    "        plt.ylabel('True')\n",
    "        plt.tight_layout()\n",
    "        plt.savefig(f\"confusion_matrix_trial_{trial_number}.png\")\n",
    "        plt.close()\n",
    "\n",
    "\n",
    "    def objective(trial):\n",
    "        nonlocal best_model, best_accuracy, best_cm_percentage, best_avg_test_loss\n",
    "        lr = trial.suggest_float(\"learning_rate\", 1e-5, 1e-3, log=True)\n",
    "        epochs = trial.suggest_int(\"epochs\", 5, 30, log=True)\n",
    "\n",
    "        train_loader = DataLoader(train_dataset, batch_size=batch_size, shuffle=True)\n",
    "        val_loader = DataLoader(val_dataset, batch_size=batch_size, shuffle=False)\n",
    "\n",
    "        model = model_class(n_mels)\n",
    "        model.apply(initialize_weights)\n",
    "        model.to(device)\n",
    "\n",
    "        optimizer = optim.Adam(model.parameters(), lr=lr)\n",
    "        scheduler = torch.optim.lr_scheduler.StepLR(optimizer, step_size=1, gamma=0.9)\n",
    "        criterion = nn.CrossEntropyLoss()\n",
    "\n",
    "        for epoch in range(epochs):\n",
    "            print(f\"Epoch {epoch + 1}/{epochs}: Training...\")\n",
    "            model.train()\n",
    "            for inputs, labels in train_loader:\n",
    "                inputs, labels = inputs.to(device), labels.to(device)\n",
    "                optimizer.zero_grad()\n",
    "                outputs = model(inputs)\n",
    "                loss = criterion(outputs, labels)\n",
    "                loss.backward()\n",
    "                optimizer.step()\n",
    "\n",
    "            scheduler.step()\n",
    "\n",
    "            print(f\"Epoch {epoch + 1}/{epochs}: Validation...\")\n",
    "            model.eval()\n",
    "            dev_loss = 0\n",
    "            with torch.no_grad():\n",
    "                for inputs, labels in val_loader:\n",
    "                    inputs, labels = inputs.to(device), labels.to(device)\n",
    "                    outputs = model(inputs)\n",
    "                    loss = criterion(outputs, labels)\n",
    "                    dev_loss += loss.item()\n",
    "\n",
    "            avg_dev_loss = dev_loss / len(val_loader)\n",
    "            print(f\"Validation Loss: {avg_dev_loss}\")\n",
    "\n",
    "        test_loader = DataLoader(test_dataset, batch_size=batch_size, shuffle=False)\n",
    "        model.eval()\n",
    "        all_labels = []\n",
    "        all_predictions = []\n",
    "        test_loss = 0\n",
    "        with torch.no_grad():\n",
    "            for inputs, labels in test_loader:\n",
    "                inputs, labels = inputs.to(device), labels.to(device)\n",
    "                outputs = model(inputs)\n",
    "                loss = criterion(outputs, labels)\n",
    "                test_loss += loss.item()\n",
    "                _, predicted = torch.max(outputs, 1)\n",
    "                all_labels.extend(labels.cpu().numpy())\n",
    "                all_predictions.extend(predicted.cpu().numpy())\n",
    "\n",
    "        accuracy = accuracy_score(all_labels, all_predictions)\n",
    "        avg_test_loss = test_loss / len(test_loader)\n",
    "        cm = confusion_matrix(all_labels, all_predictions)\n",
    "        cm_percentage = cm / np.sum(cm) * 100\n",
    "\n",
    "        trial_number = trial.number\n",
    "\n",
    "        with open(log_file, \"a\") as f:\n",
    "            f.write(f\"Trial {trial_number}\\n\")\n",
    "            f.write(f\"Learning Rate: {lr}, Epochs: {epochs}\\n\")\n",
    "            f.write(f\"Test Loss: {avg_test_loss}, Accuracy: {accuracy}\\n\")\n",
    "            f.write(f\"Confusion Matrix:\\n{cm_percentage}\\n\\n\")\n",
    "\n",
    "        print(\"Teste Final após tentativa de otimização:\")\n",
    "        print(f\"Test Loss: {avg_test_loss}\")\n",
    "        print(f\"Accuracy: {accuracy}\")\n",
    "        print(f\"Confusion Matrix:\\n{cm_percentage}\")\n",
    "\n",
    "        plot_confusion_matrix(cm_percentage, trial_number)\n",
    "\n",
    "        if accuracy > best_accuracy:\n",
    "            best_avg_test_loss = avg_test_loss\n",
    "            best_accuracy = accuracy\n",
    "            best_cm_percentage = cm_percentage\n",
    "            best_model = model\n",
    "\n",
    "        return -accuracy\n",
    "\n",
    "    study = optuna.create_study(direction=\"minimize\")\n",
    "    study.optimize(objective, n_trials=40)\n",
    "\n",
    "    best_hyperparams = study.best_params\n",
    "    best_learning_rate = best_hyperparams[\"learning_rate\"]\n",
    "    best_epochs = best_hyperparams[\"epochs\"]\n",
    "\n",
    "    return best_model, best_accuracy, best_cm_percentage, best_avg_test_loss, best_learning_rate, best_epochs"
   ]
  },
  {
   "cell_type": "markdown",
   "metadata": {
    "id": "NcpiIaFrRtr8"
   },
   "source": [
    "#### Treino e teste do modelo com os melhores hiperparâmetros utilizando 10-cross-validation"
   ]
  },
  {
   "cell_type": "code",
   "execution_count": null,
   "metadata": {
    "id": "m9-E1BemRtr8"
   },
   "outputs": [],
   "source": [
    "def cross_validation (model_class, lr, epochs, num_folds, log_file, n_mels):\n",
    "    num_folds = 10\n",
    "    all_accuracies = []\n",
    "    all_confusion_matrices = []\n",
    "    all_losses = []\n",
    "    batch_size = 64\n",
    "    kfold = list(range(num_folds))\n",
    "    all_results = []\n",
    "\n",
    "    with open(log_file, \"w\") as f:\n",
    "        f.write(\"Best Model 10-cross-validation metrics\\n\\n\")\n",
    "\n",
    "    for test_fold in kfold:\n",
    "        dev_fold = (test_fold + 1) % num_folds\n",
    "        train_folds = [fold for fold in kfold if fold != test_fold and fold != dev_fold]\n",
    "\n",
    "        train_loader = DataLoader(\n",
    "            train_dataset, batch_size=batch_size, shuffle=True\n",
    "        )\n",
    "        val_loader = DataLoader(\n",
    "            val_dataset, batch_size=batch_size, shuffle=False\n",
    "        )\n",
    "\n",
    "        print(f\"Test fold: {test_fold}, Validation fold: {dev_fold}\")\n",
    "\n",
    "        model = model_class(n_mels)\n",
    "        model.apply(initialize_weights)\n",
    "        model.to(device)\n",
    "\n",
    "        optimizer = optim.Adam(model.parameters(), lr=lr)\n",
    "        scheduler = torch.optim.lr_scheduler.StepLR(optimizer, step_size=1, gamma=0.9)\n",
    "        criterion = nn.CrossEntropyLoss()\n",
    "\n",
    "        for epoch in range(epochs):\n",
    "            print(f\"Epoch {epoch + 1}/{epochs}: Training...\")\n",
    "            model.train()\n",
    "            for inputs, labels in train_loader:\n",
    "                inputs, labels = inputs.to(device), labels.to(device)\n",
    "                optimizer.zero_grad()\n",
    "                outputs = model(inputs)\n",
    "                loss = criterion(outputs, labels)\n",
    "                loss.backward()\n",
    "                optimizer.step()\n",
    "\n",
    "            scheduler.step()\n",
    "\n",
    "            print(f\"Epoch {epoch + 1}/{epochs}: Validation...\")\n",
    "            model.eval()\n",
    "            dev_loss = 0\n",
    "            with torch.no_grad():\n",
    "                for inputs, labels in val_loader:\n",
    "                    inputs, labels = inputs.to(device), labels.to(device)\n",
    "                    outputs = model(inputs)\n",
    "                    loss = criterion(outputs, labels)\n",
    "                    dev_loss += loss.item()\n",
    "\n",
    "            avg_dev_loss = dev_loss / len(val_loader)\n",
    "            print(f\"Validation Loss: {avg_dev_loss}\")\n",
    "\n",
    "        test_loader = DataLoader(test_dataset, batch_size=batch_size, shuffle=False)\n",
    "        model.eval()\n",
    "        all_labels = []\n",
    "        all_predictions = []\n",
    "        test_loss = 0\n",
    "        with torch.no_grad():\n",
    "            for inputs, labels in test_loader:\n",
    "                inputs, labels = inputs.to(device), labels.to(device)\n",
    "                outputs = model(inputs)\n",
    "                loss = criterion(outputs, labels)\n",
    "                test_loss += loss.item()\n",
    "                _, predicted = torch.max(outputs, 1)\n",
    "                all_labels.extend(labels.cpu().numpy())\n",
    "                all_predictions.extend(predicted.cpu().numpy())\n",
    "\n",
    "        accuracy = accuracy_score(all_labels, all_predictions)\n",
    "        avg_test_loss = test_loss / len(test_loader)\n",
    "        cm = confusion_matrix(all_labels, all_predictions)\n",
    "        cm_percentage = cm / np.sum(cm) * 100\n",
    "\n",
    "        with open(log_file, \"a\") as f:\n",
    "            f.write(f\"Fold {test_fold}\\n\")\n",
    "            f.write(f\"Test Loss: {avg_test_loss}\"),\n",
    "            f.write(f\"Accuracy: {accuracy}\\n\")\n",
    "            f.write(f\"Confusion Matrix:\\n{cm_percentage}\\n\\n\")\n",
    "\n",
    "        all_accuracies.append(accuracy)\n",
    "        all_confusion_matrices.append(cm_percentage)\n",
    "        all_losses.append(avg_test_loss)\n",
    "        print(f\"Accuracy: {accuracy}\")\n",
    "\n",
    "    print(f\"Accuracy: {np.mean(all_accuracies)}\")\n",
    "    print(f\"Confusion Matrix: {np.sum(all_confusion_matrices, axis=0)}\")\n",
    "    mean_loss = (f\"Loss: {np.mean(all_losses)}\")"
   ]
  },
  {
   "cell_type": "markdown",
   "metadata": {
    "id": "zlbkIZwDRtr8"
   },
   "source": [
    "#### Treino e teste da CNN com input do tipo Spectograma de Mel\n"
   ]
  },
  {
   "cell_type": "code",
   "execution_count": null,
   "metadata": {
    "id": "hzF2nJ7XRtr8"
   },
   "outputs": [],
   "source": [
    "audio_root = '/content/drive/MyDrive/Trabalho_AC2/UrbanSound8K/audio'\n",
    "input_type = 'melspec'\n",
    "process_all_folds(audio_root, input_type)"
   ]
  },
  {
   "cell_type": "code",
   "execution_count": null,
   "metadata": {
    "id": "9Lk1rTlDRtr8"
   },
   "outputs": [],
   "source": [
    "base_path = 'processed_melspec'\n",
    "\n",
    "metadata['slice_file_name'] = metadata['slice_file_name'].str.replace('.wav', '.npy')\n",
    "metadata['file_path'] = metadata.apply(lambda row: os.path.join(base_path, f'fold{row[\"fold\"]}', row['slice_file_name']), axis=1)\n",
    "\n",
    "X = metadata['file_path'].values\n",
    "y = metadata['classID'].values"
   ]
  },
  {
   "cell_type": "code",
   "execution_count": null,
   "metadata": {
    "id": "TUQcCs9NbTfJ"
   },
   "outputs": [],
   "source": [
    "X_train, y_train, X_val, y_dev, X_test, y_test = get_train_val_test_split(folds, test_fold=1, dev_fold=2)\n",
    "train_dataset = AudioDataset(file_paths=X_train, labels=y_train)\n",
    "val_dataset = AudioDataset(file_paths=X_val, labels=y_dev)\n",
    "test_dataset = AudioDataset(file_paths=X_test, labels=y_test)\n",
    "data, label = train_dataset[0]"
   ]
  },
  {
   "cell_type": "code",
   "execution_count": null,
   "metadata": {
    "id": "ISae1MxKRtr8"
   },
   "outputs": [],
   "source": [
    "log_file = \"optimization_results_CNN_melspec.txt\"\n",
    "best_model, best_model_accuracy, best_model_cfm, best_model_loss, best_model_lr, best_model_epochs = bayesian_optimization_loss(CNNNetwork, log_file, 32)\n",
    "\n",
    "with open(log_file, \"a\") as f:\n",
    "    f.write(f\"Best Model Learning Rate: {best_model_lr}\")\n",
    "    f.write(f\"Best Model Epochs: {best_model_epochs}\")\n",
    "    f.write(f\"Best Model Accuracy: {best_model_accuracy}\")\n",
    "    f.write(f\"Best Model Confusion Matrix Percentage:\\n{best_model_cfm}\")\n",
    "    f.write(f\"Best Model Loss: {best_model_loss}\")\n",
    "\n",
    "print(f\"Best Model Learning Rate: {best_model_lr}\\n\")\n",
    "print(f\"Best Model Epochs: {best_model_epochs}\\n\")\n",
    "print(f\"Best Model Accuracy: {best_model_accuracy}\\n\")\n",
    "print(f\"Best Model Confusion Matrix Percentage:\\n{best_model_cfm}\")\n",
    "print(f\"Best Model Loss: {best_model_loss}\\n\")\n",
    "\n",
    "log_file = \"accuracies_CNN_melspec\"\n",
    "cross_validation(CNNNetwork, best_model_lr, best_model_epochs, 10, log_file, 32)"
   ]
  },
  {
   "cell_type": "code",
   "execution_count": null,
   "metadata": {
    "id": "ezn0rZVBfYH2"
   },
   "outputs": [],
   "source": [
    "log_file = \"accuracies_CNN_melspec\"\n",
    "best_model_lr = 0.00015606527934037734\n",
    "best_model_epochs = 6\n",
    "cross_validation(CNNNetwork, best_model_lr, best_model_epochs, 10, log_file, 32)"
   ]
  },
  {
   "cell_type": "markdown",
   "metadata": {
    "id": "Dew58vLiRtr8"
   },
   "source": [
    "#### Treino e teste da CNN com input do tipo MFCC"
   ]
  },
  {
   "cell_type": "code",
   "execution_count": null,
   "metadata": {
    "id": "Eh268dnGRtr8"
   },
   "outputs": [],
   "source": [
    "audio_root = '/content/drive/MyDrive/Trabalho_AC2/UrbanSound8K/audio'\n",
    "input_type = 'mfcc'\n",
    "process_all_folds(audio_root, input_type)"
   ]
  },
  {
   "cell_type": "code",
   "execution_count": null,
   "metadata": {
    "id": "eweHkhv-Rtr8"
   },
   "outputs": [],
   "source": [
    "base_path = 'processed_mfcc' # Alterar de acordo com o input desejado\n",
    "\n",
    "metadata['slice_file_name'] = metadata['slice_file_name'].str.replace('.wav', '.npy')\n",
    "metadata['file_path'] = metadata.apply(lambda row: os.path.join(base_path, f'fold{row[\"fold\"]}', row['slice_file_name']), axis=1)\n",
    "\n",
    "X = metadata['file_path'].values\n",
    "y = metadata['classID'].values\n",
    "\n",
    "print(X[:5])"
   ]
  },
  {
   "cell_type": "code",
   "execution_count": null,
   "metadata": {
    "id": "JPp-igD4bV6b"
   },
   "outputs": [],
   "source": [
    "X_train, y_train, X_val, y_dev, X_test, y_test = get_train_val_test_split(folds, test_fold=1, dev_fold=2)\n",
    "train_dataset = AudioDataset(file_paths=X_train, labels=y_train)\n",
    "val_dataset = AudioDataset(file_paths=X_val, labels=y_dev)\n",
    "test_dataset = AudioDataset(file_paths=X_test, labels=y_test)\n",
    "data, label = train_dataset[0]"
   ]
  },
  {
   "cell_type": "code",
   "execution_count": null,
   "metadata": {
    "id": "i_C6vhcuRtr8"
   },
   "outputs": [],
   "source": [
    "log_file = \"optimization_results_CNN_mfcc.txt\"\n",
    "best_model, best_model_accuracy, best_model_cfm, best_model_loss, best_model_lr, best_model_epochs = bayesian_optimization_loss(CNNNetwork, log_file, 128)\n",
    "\n",
    "with open(log_file, \"a\") as f:\n",
    "    f.write(f\"Best Model Learning Rate: {best_model_lr}\")\n",
    "    f.write(f\"Best Model Epochs: {best_model_epochs}\")\n",
    "    f.write(f\"Best Model Accuracy: {best_model_accuracy}\")\n",
    "    f.write(f\"Best Model Confusion Matrix Percentage:\\n{best_model_cfm}\")\n",
    "    f.write(f\"Best Model Loss: {best_model_loss}\")\n",
    "\n",
    "print(f\"Best Model Learning Rate: {best_model_lr}\\n\")\n",
    "print(f\"Best Model Epochs: {best_model_epochs}\\n\")\n",
    "print(f\"Best Model Accuracy: {best_model_accuracy}\\n\")\n",
    "print(f\"Best Model Confusion Matrix Percentage:\\n{best_model_cfm}\")\n",
    "print(f\"Best Model Loss: {best_model_loss}\\n\")\n",
    "\n",
    "log_file = accuracies = \"accuracies_CNN_mfcc\"\n",
    "cross_validation(CNNNetwork, best_model_lr, best_model_epochs, 10, log_file, 128)"
   ]
  },
  {
   "cell_type": "code",
   "execution_count": null,
   "metadata": {
    "id": "NI-f8t5Ke_AE"
   },
   "outputs": [],
   "source": [
    "log_file = \"accuracies_CNN_mfcc\"\n",
    "best_model_lr = 0.00015606527934037734\n",
    "best_model_epochs = 6\n",
    "cross_validation(CNNNetwork, best_model_lr, best_model_epochs, 10, log_file, 128)"
   ]
  },
  {
   "cell_type": "markdown",
   "metadata": {
    "id": "d3rmHM-HRtr8"
   },
   "source": [
    "## Comparação de modelos"
   ]
  },
  {
   "cell_type": "markdown",
   "metadata": {
    "id": "G_hZli0NRtr9"
   },
   "source": [
    "#### Friedman Test  \n",
    "Realizámos um Friedman Test para comparar os 3 modelos e perceber se existiam diferenças significativas entre eles a um nível de significância de alpha = 0.05"
   ]
  },
  {
   "cell_type": "code",
   "execution_count": 140,
   "metadata": {
    "id": "iO8tO2A-Rtr9",
    "outputId": "717ce83b-d62e-4171-9faf-4a6e2b4ac210"
   },
   "outputs": [
    {
     "name": "stdout",
     "output_type": "stream",
     "text": [
      "Friedman Test Statistic: 15.0\n",
      "P-value: 0.0005530843701478337\n",
      "Significant differences exist among the models.\n"
     ]
    }
   ],
   "source": [
    "MLP = [0.6227477192878723, 0.6832432150840759, 0.6727272868156433, 0.7168803215026855, 0.6281895637512207, 0.6479713320732117, 0.5843672752380371, 0.6899510025978088, 0.6463560461997986, 0.7067583203315735]\n",
    "CNN_melspec = [0.5120274914089347, 0.5509736540664376, 0.5269186712485682, 0.5189003436426117, 0.5337915234822451, 0.5532646048109966, 0.5051546391752577, 0.563573883161512, 0.5589919816723941, 0.5486827033218786]\n",
    "CNN_mfcc = [0.5418098510882016, 0.5372279495990836, 0.561282932416953, 0.565864833906071, 0.586483390607102, 0.54524627720504, 0.5246277205040092, 0.5498281786941581, 0.5108820160366552, 0.5360824742268041]\n",
    "\n",
    "data = np.array([MLP, CNN_melspec, CNN_mfcc])\n",
    "\n",
    "stat, p_value = friedmanchisquare(*data)\n",
    "\n",
    "print(f\"Friedman Test Statistic: {stat}\")\n",
    "print(f\"P-value: {p_value}\")\n",
    "\n",
    "alpha = 0.05\n",
    "if p_value < alpha:\n",
    "    print(\"Significant differences exist among the models.\")\n",
    "else:\n",
    "    print(\"No significant differences were found among the models.\")\n"
   ]
  },
  {
   "cell_type": "markdown",
   "metadata": {
    "id": "5zgWpJwFRtr9"
   },
   "source": [
    "## Nemenyi Test\n",
    "Tendo em conta o resultado do Friedman Test realizámos um Nemenyi Test para perceber exatamente entre que modelos é que existiam as diferenças mais significativas"
   ]
  },
  {
   "cell_type": "code",
   "execution_count": 143,
   "metadata": {
    "id": "_rh691bCRtr9",
    "outputId": "ac2b9642-0b4e-445c-b6b4-d20cf5fc477d"
   },
   "outputs": [
    {
     "name": "stdout",
     "output_type": "stream",
     "text": [
      "Nemenyi Test Results:\n",
      "          0         1         2\n",
      "0  1.000000  0.002296  0.002296\n",
      "1  0.002296  1.000000  1.000000\n",
      "2  0.002296  1.000000  1.000000\n"
     ]
    }
   ],
   "source": [
    "data = data.T\n",
    "nemenyi_results = sp.posthoc_nemenyi_friedman(data)\n",
    "print(\"Nemenyi Test Results:\")\n",
    "print(nemenyi_results)"
   ]
  },
  {
   "cell_type": "markdown",
   "metadata": {
    "id": "kXcoyDgiRtr9"
   },
   "source": [
    "---"
   ]
  },
  {
   "cell_type": "markdown",
   "metadata": {
    "id": "2ci-GDwERtr9"
   },
   "source": [
    "## Conclusões"
   ]
  },
  {
   "cell_type": "markdown",
   "metadata": {
    "id": "2oA7WFiKRtr9"
   },
   "source": [
    "Começando pelo modelo MultiLayer Perceptron (MLP), que foi de longe o melhor modelo, como podemos ver pelos testes de comparação, e onde conseguimos obter resultados razoáveis. O modelo teve uma média de accuracy de 66% (com 10-cross-validation), com a accuracy bem distribuída por todas as classes, o que também é um ponto positivo. Apesar de não constar no notebook, nós experimentámos com uma divisão de folds aleatória, que nos deu 74% de accuracy, mas com uma accuracy muito alta para certas classes e muito baixa para outras, o que não era o objetivo do trabalho. Tendo em conta que o modelo rodava relativamente depressa experimentámos várias arquiteturas, com 2 ou 3 camadas escondidadas, pois queríamos testar se 2 camadas seria muito simples ou 3 seriam muito complexas e levaria a overfitting (confirmou-se a última opção), e com funções de ativação nas camadas escondidas ReLU ou LeakyReLU, pois suspeitámos que a função ReLU poderia ter um problema de dying ReLU com este dataset, o que se veio a confirmar pelos resultados. Para além disso fizemos um Grid Search que otimizou o tamanho do batch, o learning rate inicial e o número de epochs no treino.  \n",
    "Passando ao modelo de Convulsion Neural Networks (CNN), que teve piores resultados que o MLP nas duas versões de input que testámos, mas não houve diferenças significativas de performance entres essas mesmas versões, como podemos ver pelos testes de comparação. A sua performance teve resultados medianos (53 e 54% de accuracy) mas que estão dentro do expectável para o comportamento de CNN's ara estes dados (a literatura fala numa accuracy expectável entre 50 a 70%).  \n",
    "Em relação aos aspetos a melhorar, sabemos que existem vários, nomeadamente no grid search/otimização bayseana e na extração de features para a MLP. Poderiam haver mais hiperparâmetros a ser afinados e dentro desses hiperparâmetros mais valores possíveis (no caso do grid search) ou um maior range (no caso da otimização bayseana). Para além disso, na otimização bayseana deveriam ter havido mais tentativas (as que definimos são um valor mínimo para obter resultados razoáveis).  Na extração de features, poderia ter sido utilizada uma rede neuronal para obter mais parâmetros do que aqueles que foram obtidos (utilizando, por exemplo, transfer learning).  \n",
    "Em conclusão, pensamos que conseguimos realizar todos os objetivos do trabalho, especialmente tendo em conta a limitação do poder computacional das máquinas utilizadas, e que os resultados obtidos foram razoáveis e dentro do expectável."
   ]
  },
  {
   "cell_type": "markdown",
   "metadata": {
    "id": "fYlV4U5GRtr9"
   },
   "source": [
    "---\n"
   ]
  },
  {
   "cell_type": "markdown",
   "metadata": {
    "id": "n_zDTikIRtr9"
   },
   "source": [
    "## Referências\n",
    "\n",
    "\n",
    "https://towardsdatascience.com/how-to-choose-the-right-activation-function-for-neural-networks-3941ff0e6f9c\n",
    "https://medium.com/thedeephub/learning-rate-and-its-strategies-in-neural-network-training-270a91ea0e5c\n",
    "https://www.kaggle.com/code/androbomb/simple-nn-with-python-multi-layer-perceptron\n",
    "https://medium.com/ensina-ai/rede-neural-perceptron-multicamadas-f9de8471f1a9\n",
    "https://iaexpert.academy/2020/05/04/quantas-camadas-escondidas-e-quantos-neuronios-incluir-numa-rede-neural-artificial/ https://towardsdatascience.com/how-to-choose-the-right-activation-function-for-neural-networks-3941ff0e6f9c\n",
    "https://github.com/enochkan/building-from-scratch/blob/main/optimizers/adam-optimizer-from-scratch.ipynb\n",
    "https://www.geeksforgeeks.org/ml-mini-batch-gradient-descent-with-python/\n",
    "https://towardsdatascience.com/cnns-for-audio-classification-6244954665ab\n",
    "https://stackoverflow.com/questions/60390707/how-to-choose-the-number-of-convolution-layers-and-filters-in-cnn\n",
    "https://machinelearningmastery.com/improve-deep-learning-performance/\n",
    "https://towardsdatascience.com/convolutional-neural-networks-explained-9cc5188c4939  \n",
    "https://www.geeksforgeeks.org/how-to-decide-number-of-filters-in-cnn/  \n",
    "https://www.sciencedirect.com/topics/earth-and-planetary-sciences/bayesian-optimization\n",
    "https://www.youtube.com/watch?v=SQ1iIKs190Q&t=931s\n",
    "https://librosa.org/doc/main/feature.html\n",
    "https://towardsdatascience.com/cnns-for-audio-classification-6244954665ab\n"
   ]
  }
 ],
 "metadata": {
  "colab": {
   "provenance": []
  },
  "kernelspec": {
   "display_name": "Python 3 (ipykernel)",
   "language": "python",
   "name": "python3"
  },
  "language_info": {
   "codemirror_mode": {
    "name": "ipython",
    "version": 3
   },
   "file_extension": ".py",
   "mimetype": "text/x-python",
   "name": "python",
   "nbconvert_exporter": "python",
   "pygments_lexer": "ipython3",
   "version": "3.12.4"
  }
 },
 "nbformat": 4,
 "nbformat_minor": 4
}
